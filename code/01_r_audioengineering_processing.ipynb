{
 "cells": [
  {
   "cell_type": "markdown",
   "metadata": {},
   "source": [
    "<img src=\"http://imgur.com/1ZcRyrc.png\" style=\"float: left; margin: 20px; height: 55px\">\n",
    "\n",
    "# Project 3: Notebook 1\n",
    "## Audio Engineering Subreddit Pre-Processing"
   ]
  },
  {
   "cell_type": "markdown",
   "metadata": {},
   "source": [
    "---\n",
    "## Section 1: Imports\n",
    "\n",
    "---"
   ]
  },
  {
   "cell_type": "markdown",
   "metadata": {},
   "source": [
    "**BELOW:** Importing Python libraries for processing and testing my first Subreddit. With help from a [YouTube video](https://www.youtube.com/watch?v=AcrjEWsMi_E&feature=youtu.be) by GA instructor Riley Dallas."
   ]
  },
  {
   "cell_type": "code",
   "execution_count": 1,
   "metadata": {},
   "outputs": [],
   "source": [
    "import numpy as np\n",
    "import pandas as pd\n",
    "import matplotlib.pyplot as plt\n",
    "import seaborn as sns\n",
    "\n",
    "import requests\n",
    "from time import sleep\n",
    "\n",
    "from sklearn.feature_extraction.text import CountVectorizer, TfidfVectorizer"
   ]
  },
  {
   "cell_type": "code",
   "execution_count": 2,
   "metadata": {},
   "outputs": [],
   "source": [
    "url = 'https://api.pushshift.io/reddit/search/submission'"
   ]
  },
  {
   "cell_type": "code",
   "execution_count": 3,
   "metadata": {},
   "outputs": [],
   "source": [
    "# Defining a parameter list to set the scope of my scrape - here, the Audio Engineering Subreddit, with a scrape size of 100 posts per scrape.\n",
    "params = {\n",
    "        'subreddit': 'audioengineering',\n",
    "        'size': 100\n",
    "}"
   ]
  },
  {
   "cell_type": "code",
   "execution_count": 4,
   "metadata": {},
   "outputs": [],
   "source": [
    "# Setting a response variable for my requests from the Pushshift API.\n",
    "res = requests.get(url, params)"
   ]
  },
  {
   "cell_type": "code",
   "execution_count": 5,
   "metadata": {},
   "outputs": [
    {
     "data": {
      "text/plain": [
       "200"
      ]
     },
     "execution_count": 5,
     "metadata": {},
     "output_type": "execute_result"
    }
   ],
   "source": [
    "# Checking the status code - response is 200, so looking good!\n",
    "res.status_code"
   ]
  },
  {
   "cell_type": "code",
   "execution_count": 6,
   "metadata": {},
   "outputs": [],
   "source": [
    "# Converting data to json.\n",
    "data = res.json()"
   ]
  },
  {
   "cell_type": "code",
   "execution_count": 7,
   "metadata": {},
   "outputs": [],
   "source": [
    "# Defining 'posts' to equal jsonified data. I'll later concatenate all the subreddit entries to 'posts'.\n",
    "posts = data['data']"
   ]
  },
  {
   "cell_type": "code",
   "execution_count": 8,
   "metadata": {
    "scrolled": true
   },
   "outputs": [
    {
     "data": {
      "text/plain": [
       "{'all_awardings': [],\n",
       " 'allow_live_comments': False,\n",
       " 'author': 'Tuniac',\n",
       " 'author_flair_css_class': None,\n",
       " 'author_flair_richtext': [],\n",
       " 'author_flair_text': None,\n",
       " 'author_flair_type': 'text',\n",
       " 'author_fullname': 't2_978df',\n",
       " 'author_patreon_flair': False,\n",
       " 'author_premium': False,\n",
       " 'awarders': [],\n",
       " 'can_mod_post': False,\n",
       " 'contest_mode': False,\n",
       " 'created_utc': 1606787707,\n",
       " 'domain': 'self.audioengineering',\n",
       " 'full_link': 'https://www.reddit.com/r/audioengineering/comments/k4axms/help_identifying_a_mic/',\n",
       " 'gildings': {},\n",
       " 'id': 'k4axms',\n",
       " 'is_crosspostable': True,\n",
       " 'is_meta': False,\n",
       " 'is_original_content': False,\n",
       " 'is_reddit_media_domain': False,\n",
       " 'is_robot_indexable': True,\n",
       " 'is_self': True,\n",
       " 'is_video': False,\n",
       " 'link_flair_background_color': '',\n",
       " 'link_flair_richtext': [],\n",
       " 'link_flair_text_color': 'dark',\n",
       " 'link_flair_type': 'text',\n",
       " 'locked': False,\n",
       " 'media_only': False,\n",
       " 'no_follow': False,\n",
       " 'num_comments': 0,\n",
       " 'num_crossposts': 0,\n",
       " 'over_18': False,\n",
       " 'parent_whitelist_status': 'all_ads',\n",
       " 'permalink': '/r/audioengineering/comments/k4axms/help_identifying_a_mic/',\n",
       " 'pinned': False,\n",
       " 'post_hint': 'self',\n",
       " 'preview': {'enabled': False,\n",
       "  'images': [{'id': 'dCN1t2jgEqrbi51ASCVCpXFZ1jjMFFdLoXauhOsAqVg',\n",
       "    'resolutions': [{'height': 81,\n",
       "      'url': 'https://external-preview.redd.it/d8PnytkcUSPFIb4F-hzGle-wD6Exd2jTFVH_eXevDfY.jpg?width=108&amp;crop=smart&amp;auto=webp&amp;s=c372468ba5c7d131f173328ed32125079da12a15',\n",
       "      'width': 108},\n",
       "     {'height': 162,\n",
       "      'url': 'https://external-preview.redd.it/d8PnytkcUSPFIb4F-hzGle-wD6Exd2jTFVH_eXevDfY.jpg?width=216&amp;crop=smart&amp;auto=webp&amp;s=79b410f4e7996aa54d90355bb768befbfc0defdf',\n",
       "      'width': 216},\n",
       "     {'height': 240,\n",
       "      'url': 'https://external-preview.redd.it/d8PnytkcUSPFIb4F-hzGle-wD6Exd2jTFVH_eXevDfY.jpg?width=320&amp;crop=smart&amp;auto=webp&amp;s=1da6487c9c83d48b3d9d29579645bede98977855',\n",
       "      'width': 320}],\n",
       "    'source': {'height': 360,\n",
       "     'url': 'https://external-preview.redd.it/d8PnytkcUSPFIb4F-hzGle-wD6Exd2jTFVH_eXevDfY.jpg?auto=webp&amp;s=af5bf6a6d5f4e6226e73b3174484630259a0ee81',\n",
       "     'width': 480},\n",
       "    'variants': {}}]},\n",
       " 'pwls': 6,\n",
       " 'retrieved_on': 1606787718,\n",
       " 'score': 1,\n",
       " 'selftext': '[https://www.youtube.com/watch?v=Gr9mOTKQELE&amp;lc=Ugzk1tE6CT6scqB7rPR4AaABAg.9GgvgyZ-\\\\_nZ9Ghctb6AFTB](https://www.youtube.com/watch?v=Gr9mOTKQELE&amp;lc=Ugzk1tE6CT6scqB7rPR4AaABAg.9GgvgyZ-_nZ9Ghctb6AFTB) the best shot of it is around 6:18.  I know the vocal mics are Coles, but what are they playing into?',\n",
       " 'send_replies': True,\n",
       " 'spoiler': False,\n",
       " 'stickied': False,\n",
       " 'subreddit': 'audioengineering',\n",
       " 'subreddit_id': 't5_2qkby',\n",
       " 'subreddit_subscribers': 206246,\n",
       " 'subreddit_type': 'public',\n",
       " 'thumbnail': 'self',\n",
       " 'title': 'Help Identifying a Mic',\n",
       " 'total_awards_received': 0,\n",
       " 'treatment_tags': [],\n",
       " 'upvote_ratio': 1.0,\n",
       " 'url': 'https://www.reddit.com/r/audioengineering/comments/k4axms/help_identifying_a_mic/',\n",
       " 'whitelist_status': 'all_ads',\n",
       " 'wls': 6}"
      ]
     },
     "execution_count": 8,
     "metadata": {},
     "output_type": "execute_result"
    }
   ],
   "source": [
    "# Checking to see if my pull worked - it did!\n",
    "posts[0]"
   ]
  },
  {
   "cell_type": "markdown",
   "metadata": {},
   "source": [
    "---\n",
    "## Section 2: Pulling Data From Audio Engineering Subreddit\n",
    "---"
   ]
  },
  {
   "cell_type": "markdown",
   "metadata": {},
   "source": [
    "**BELOW:** Setting up the Pushshift API, with help from a [YouTube video](https://www.youtube.com/watch?v=AcrjEWsMi_E&feature=youtu.be) by GA instructor Riley Dallas. I also worked with Nolan A, and had help from Noah and Patrick working out the kinks!"
   ]
  },
  {
   "cell_type": "code",
   "execution_count": 9,
   "metadata": {},
   "outputs": [],
   "source": [
    "url = 'https://api.pushshift.io/reddit/search/submission'"
   ]
  },
  {
   "cell_type": "code",
   "execution_count": 10,
   "metadata": {},
   "outputs": [],
   "source": [
    "# I had help with this loop from Nolan A.\n",
    "\n",
    "# Iterating through a range of numbers, 0 to, and including 49.\n",
    "for i in range(49):\n",
    "    # Setting a 'sleep' timer to make sure the computer waits 3 seconds between each scrape.\n",
    "    sleep(3)\n",
    "    # Creating a 'utc' variable for universal time code, and assigning it to the utc of the oldest post scraped in a given iteration.\n",
    "    # This enables me to bring in posts in groups of 100, while ensuring that I don't pull the same 100 posts each time through the loop.\n",
    "    utc = posts[-1]['created_utc']\n",
    "    # Defining a parameter list to set the scope of my scrape - here, the Audio Engineering Subreddit, with a scrape size\n",
    "    # of 100 posts per scrape, and 'before' specifying the utc (defined above) so that posts aren't duplicated.\n",
    "    params = {\n",
    "        'subreddit': 'audioengineering',\n",
    "        'size': 100,\n",
    "        'before': utc\n",
    "    }\n",
    "    \n",
    "    # Setting a response variable for my requests from the Pushshift API.\n",
    "    res = requests.get(url, params)\n",
    "    # Converting these responses to json.\n",
    "    data = res.json()['data']\n",
    "    # Compiling all posts by adding the new data obtained upon each iteration.\n",
    "    posts = posts + data"
   ]
  },
  {
   "cell_type": "code",
   "execution_count": 11,
   "metadata": {},
   "outputs": [
    {
     "data": {
      "text/plain": [
       "5000"
      ]
     },
     "execution_count": 11,
     "metadata": {},
     "output_type": "execute_result"
    }
   ],
   "source": [
    "# Looking a how many posts I pulled in.\n",
    "len(posts)"
   ]
  },
  {
   "cell_type": "code",
   "execution_count": 12,
   "metadata": {},
   "outputs": [],
   "source": [
    "# Creating a pandas dataframe from my scraped posts.\n",
    "audio_df = pd.DataFrame(posts)"
   ]
  },
  {
   "cell_type": "code",
   "execution_count": 13,
   "metadata": {},
   "outputs": [
    {
     "data": {
      "text/html": [
       "<div>\n",
       "<style scoped>\n",
       "    .dataframe tbody tr th:only-of-type {\n",
       "        vertical-align: middle;\n",
       "    }\n",
       "\n",
       "    .dataframe tbody tr th {\n",
       "        vertical-align: top;\n",
       "    }\n",
       "\n",
       "    .dataframe thead th {\n",
       "        text-align: right;\n",
       "    }\n",
       "</style>\n",
       "<table border=\"1\" class=\"dataframe\">\n",
       "  <thead>\n",
       "    <tr style=\"text-align: right;\">\n",
       "      <th></th>\n",
       "      <th>all_awardings</th>\n",
       "      <th>allow_live_comments</th>\n",
       "      <th>author</th>\n",
       "      <th>author_flair_css_class</th>\n",
       "      <th>author_flair_richtext</th>\n",
       "      <th>author_flair_text</th>\n",
       "      <th>author_flair_type</th>\n",
       "      <th>author_fullname</th>\n",
       "      <th>author_patreon_flair</th>\n",
       "      <th>author_premium</th>\n",
       "      <th>...</th>\n",
       "      <th>suggested_sort</th>\n",
       "      <th>author_cakeday</th>\n",
       "      <th>crosspost_parent</th>\n",
       "      <th>crosspost_parent_list</th>\n",
       "      <th>thumbnail_height</th>\n",
       "      <th>thumbnail_width</th>\n",
       "      <th>url_overridden_by_dest</th>\n",
       "      <th>edited</th>\n",
       "      <th>banned_by</th>\n",
       "      <th>distinguished</th>\n",
       "    </tr>\n",
       "  </thead>\n",
       "  <tbody>\n",
       "    <tr>\n",
       "      <th>0</th>\n",
       "      <td>[]</td>\n",
       "      <td>False</td>\n",
       "      <td>Tuniac</td>\n",
       "      <td>None</td>\n",
       "      <td>[]</td>\n",
       "      <td>None</td>\n",
       "      <td>text</td>\n",
       "      <td>t2_978df</td>\n",
       "      <td>False</td>\n",
       "      <td>False</td>\n",
       "      <td>...</td>\n",
       "      <td>NaN</td>\n",
       "      <td>NaN</td>\n",
       "      <td>NaN</td>\n",
       "      <td>NaN</td>\n",
       "      <td>NaN</td>\n",
       "      <td>NaN</td>\n",
       "      <td>NaN</td>\n",
       "      <td>NaN</td>\n",
       "      <td>NaN</td>\n",
       "      <td>NaN</td>\n",
       "    </tr>\n",
       "    <tr>\n",
       "      <th>1</th>\n",
       "      <td>[]</td>\n",
       "      <td>False</td>\n",
       "      <td>out-of-the-ordinary</td>\n",
       "      <td>None</td>\n",
       "      <td>[]</td>\n",
       "      <td>None</td>\n",
       "      <td>text</td>\n",
       "      <td>t2_5etcgj4w</td>\n",
       "      <td>False</td>\n",
       "      <td>False</td>\n",
       "      <td>...</td>\n",
       "      <td>NaN</td>\n",
       "      <td>NaN</td>\n",
       "      <td>NaN</td>\n",
       "      <td>NaN</td>\n",
       "      <td>NaN</td>\n",
       "      <td>NaN</td>\n",
       "      <td>NaN</td>\n",
       "      <td>NaN</td>\n",
       "      <td>NaN</td>\n",
       "      <td>NaN</td>\n",
       "    </tr>\n",
       "    <tr>\n",
       "      <th>2</th>\n",
       "      <td>[]</td>\n",
       "      <td>False</td>\n",
       "      <td>ChristopherEv</td>\n",
       "      <td>None</td>\n",
       "      <td>[]</td>\n",
       "      <td>None</td>\n",
       "      <td>text</td>\n",
       "      <td>t2_q72eyoi</td>\n",
       "      <td>False</td>\n",
       "      <td>False</td>\n",
       "      <td>...</td>\n",
       "      <td>NaN</td>\n",
       "      <td>NaN</td>\n",
       "      <td>NaN</td>\n",
       "      <td>NaN</td>\n",
       "      <td>NaN</td>\n",
       "      <td>NaN</td>\n",
       "      <td>NaN</td>\n",
       "      <td>NaN</td>\n",
       "      <td>NaN</td>\n",
       "      <td>NaN</td>\n",
       "    </tr>\n",
       "    <tr>\n",
       "      <th>3</th>\n",
       "      <td>[]</td>\n",
       "      <td>False</td>\n",
       "      <td>gainstager</td>\n",
       "      <td>bluestripe</td>\n",
       "      <td>[]</td>\n",
       "      <td>Audio Software</td>\n",
       "      <td>text</td>\n",
       "      <td>t2_3t4mqs5b</td>\n",
       "      <td>False</td>\n",
       "      <td>False</td>\n",
       "      <td>...</td>\n",
       "      <td>NaN</td>\n",
       "      <td>NaN</td>\n",
       "      <td>NaN</td>\n",
       "      <td>NaN</td>\n",
       "      <td>NaN</td>\n",
       "      <td>NaN</td>\n",
       "      <td>NaN</td>\n",
       "      <td>NaN</td>\n",
       "      <td>NaN</td>\n",
       "      <td>NaN</td>\n",
       "    </tr>\n",
       "    <tr>\n",
       "      <th>4</th>\n",
       "      <td>[]</td>\n",
       "      <td>False</td>\n",
       "      <td>ThesisWarrior</td>\n",
       "      <td>None</td>\n",
       "      <td>[]</td>\n",
       "      <td>None</td>\n",
       "      <td>text</td>\n",
       "      <td>t2_1z268pgg</td>\n",
       "      <td>False</td>\n",
       "      <td>False</td>\n",
       "      <td>...</td>\n",
       "      <td>NaN</td>\n",
       "      <td>NaN</td>\n",
       "      <td>NaN</td>\n",
       "      <td>NaN</td>\n",
       "      <td>NaN</td>\n",
       "      <td>NaN</td>\n",
       "      <td>NaN</td>\n",
       "      <td>NaN</td>\n",
       "      <td>NaN</td>\n",
       "      <td>NaN</td>\n",
       "    </tr>\n",
       "  </tbody>\n",
       "</table>\n",
       "<p>5 rows × 76 columns</p>\n",
       "</div>"
      ],
      "text/plain": [
       "  all_awardings  allow_live_comments               author  \\\n",
       "0            []                False               Tuniac   \n",
       "1            []                False  out-of-the-ordinary   \n",
       "2            []                False        ChristopherEv   \n",
       "3            []                False           gainstager   \n",
       "4            []                False        ThesisWarrior   \n",
       "\n",
       "  author_flair_css_class author_flair_richtext author_flair_text  \\\n",
       "0                   None                    []              None   \n",
       "1                   None                    []              None   \n",
       "2                   None                    []              None   \n",
       "3             bluestripe                    []    Audio Software   \n",
       "4                   None                    []              None   \n",
       "\n",
       "  author_flair_type author_fullname author_patreon_flair author_premium  ...  \\\n",
       "0              text        t2_978df                False          False  ...   \n",
       "1              text     t2_5etcgj4w                False          False  ...   \n",
       "2              text      t2_q72eyoi                False          False  ...   \n",
       "3              text     t2_3t4mqs5b                False          False  ...   \n",
       "4              text     t2_1z268pgg                False          False  ...   \n",
       "\n",
       "  suggested_sort  author_cakeday  crosspost_parent  crosspost_parent_list  \\\n",
       "0            NaN             NaN               NaN                    NaN   \n",
       "1            NaN             NaN               NaN                    NaN   \n",
       "2            NaN             NaN               NaN                    NaN   \n",
       "3            NaN             NaN               NaN                    NaN   \n",
       "4            NaN             NaN               NaN                    NaN   \n",
       "\n",
       "  thumbnail_height thumbnail_width url_overridden_by_dest edited  banned_by  \\\n",
       "0              NaN             NaN                    NaN    NaN        NaN   \n",
       "1              NaN             NaN                    NaN    NaN        NaN   \n",
       "2              NaN             NaN                    NaN    NaN        NaN   \n",
       "3              NaN             NaN                    NaN    NaN        NaN   \n",
       "4              NaN             NaN                    NaN    NaN        NaN   \n",
       "\n",
       "   distinguished  \n",
       "0            NaN  \n",
       "1            NaN  \n",
       "2            NaN  \n",
       "3            NaN  \n",
       "4            NaN  \n",
       "\n",
       "[5 rows x 76 columns]"
      ]
     },
     "execution_count": 13,
     "metadata": {},
     "output_type": "execute_result"
    }
   ],
   "source": [
    "audio_df.head()"
   ]
  },
  {
   "cell_type": "code",
   "execution_count": 14,
   "metadata": {},
   "outputs": [
    {
     "data": {
      "text/html": [
       "<div>\n",
       "<style scoped>\n",
       "    .dataframe tbody tr th:only-of-type {\n",
       "        vertical-align: middle;\n",
       "    }\n",
       "\n",
       "    .dataframe tbody tr th {\n",
       "        vertical-align: top;\n",
       "    }\n",
       "\n",
       "    .dataframe thead th {\n",
       "        text-align: right;\n",
       "    }\n",
       "</style>\n",
       "<table border=\"1\" class=\"dataframe\">\n",
       "  <thead>\n",
       "    <tr style=\"text-align: right;\">\n",
       "      <th></th>\n",
       "      <th>subreddit</th>\n",
       "      <th>title</th>\n",
       "      <th>selftext</th>\n",
       "    </tr>\n",
       "  </thead>\n",
       "  <tbody>\n",
       "    <tr>\n",
       "      <th>0</th>\n",
       "      <td>audioengineering</td>\n",
       "      <td>Help Identifying a Mic</td>\n",
       "      <td>[https://www.youtube.com/watch?v=Gr9mOTKQELE&amp;a...</td>\n",
       "    </tr>\n",
       "    <tr>\n",
       "      <th>1</th>\n",
       "      <td>audioengineering</td>\n",
       "      <td>Import eq filters to t.racks dsp 4x4 mini from...</td>\n",
       "      <td>Hello dear people of the internet,\\n\\n&amp;amp;#x2...</td>\n",
       "    </tr>\n",
       "    <tr>\n",
       "      <th>2</th>\n",
       "      <td>audioengineering</td>\n",
       "      <td>Could I theoretically split a male 3.5mm into ...</td>\n",
       "      <td>Basically I have a headset with microphone and...</td>\n",
       "    </tr>\n",
       "    <tr>\n",
       "      <th>3</th>\n",
       "      <td>audioengineering</td>\n",
       "      <td>I’ve got a great mix, but I know it will be a ...</td>\n",
       "      <td>I’ve been working on a mix for a little too lo...</td>\n",
       "    </tr>\n",
       "    <tr>\n",
       "      <th>4</th>\n",
       "      <td>audioengineering</td>\n",
       "      <td>Attack and Release on a Compressor - HOW sound...</td>\n",
       "      <td>Hi all - ive created a basic diagram graphic f...</td>\n",
       "    </tr>\n",
       "    <tr>\n",
       "      <th>...</th>\n",
       "      <td>...</td>\n",
       "      <td>...</td>\n",
       "      <td>...</td>\n",
       "    </tr>\n",
       "    <tr>\n",
       "      <th>4995</th>\n",
       "      <td>audioengineering</td>\n",
       "      <td>The state of plugin licensing is terrible.</td>\n",
       "      <td>[removed]</td>\n",
       "    </tr>\n",
       "    <tr>\n",
       "      <th>4996</th>\n",
       "      <td>audioengineering</td>\n",
       "      <td>Question about XLR and 1/4inch cables</td>\n",
       "      <td>this may sound like a stupid question, but her...</td>\n",
       "    </tr>\n",
       "    <tr>\n",
       "      <th>4997</th>\n",
       "      <td>audioengineering</td>\n",
       "      <td>Help with Ceiling Mounted Mic Stand</td>\n",
       "      <td>I've been on a little bit of a journey with th...</td>\n",
       "    </tr>\n",
       "    <tr>\n",
       "      <th>4998</th>\n",
       "      <td>audioengineering</td>\n",
       "      <td>Sony Walkman NW-A40 vs NW-A50</td>\n",
       "      <td>Apart from some obvious cosmetic changes, is t...</td>\n",
       "    </tr>\n",
       "    <tr>\n",
       "      <th>4999</th>\n",
       "      <td>audioengineering</td>\n",
       "      <td>What is the best and most directional shotgun ...</td>\n",
       "      <td></td>\n",
       "    </tr>\n",
       "  </tbody>\n",
       "</table>\n",
       "<p>5000 rows × 3 columns</p>\n",
       "</div>"
      ],
      "text/plain": [
       "             subreddit                                              title  \\\n",
       "0     audioengineering                             Help Identifying a Mic   \n",
       "1     audioengineering  Import eq filters to t.racks dsp 4x4 mini from...   \n",
       "2     audioengineering  Could I theoretically split a male 3.5mm into ...   \n",
       "3     audioengineering  I’ve got a great mix, but I know it will be a ...   \n",
       "4     audioengineering  Attack and Release on a Compressor - HOW sound...   \n",
       "...                ...                                                ...   \n",
       "4995  audioengineering         The state of plugin licensing is terrible.   \n",
       "4996  audioengineering              Question about XLR and 1/4inch cables   \n",
       "4997  audioengineering                Help with Ceiling Mounted Mic Stand   \n",
       "4998  audioengineering                      Sony Walkman NW-A40 vs NW-A50   \n",
       "4999  audioengineering  What is the best and most directional shotgun ...   \n",
       "\n",
       "                                               selftext  \n",
       "0     [https://www.youtube.com/watch?v=Gr9mOTKQELE&a...  \n",
       "1     Hello dear people of the internet,\\n\\n&amp;#x2...  \n",
       "2     Basically I have a headset with microphone and...  \n",
       "3     I’ve been working on a mix for a little too lo...  \n",
       "4     Hi all - ive created a basic diagram graphic f...  \n",
       "...                                                 ...  \n",
       "4995                                          [removed]  \n",
       "4996  this may sound like a stupid question, but her...  \n",
       "4997  I've been on a little bit of a journey with th...  \n",
       "4998  Apart from some obvious cosmetic changes, is t...  \n",
       "4999                                                     \n",
       "\n",
       "[5000 rows x 3 columns]"
      ]
     },
     "execution_count": 14,
     "metadata": {},
     "output_type": "execute_result"
    }
   ],
   "source": [
    "# Singling out columns to look at as per Riley Dallas' video.\n",
    "audio_df[['subreddit', 'title', 'selftext']]"
   ]
  },
  {
   "cell_type": "markdown",
   "metadata": {},
   "source": [
    "---\n",
    "## Section 3: Cleaning\n",
    "---"
   ]
  },
  {
   "cell_type": "code",
   "execution_count": 15,
   "metadata": {},
   "outputs": [
    {
     "data": {
      "text/html": [
       "<div>\n",
       "<style scoped>\n",
       "    .dataframe tbody tr th:only-of-type {\n",
       "        vertical-align: middle;\n",
       "    }\n",
       "\n",
       "    .dataframe tbody tr th {\n",
       "        vertical-align: top;\n",
       "    }\n",
       "\n",
       "    .dataframe thead th {\n",
       "        text-align: right;\n",
       "    }\n",
       "</style>\n",
       "<table border=\"1\" class=\"dataframe\">\n",
       "  <thead>\n",
       "    <tr style=\"text-align: right;\">\n",
       "      <th></th>\n",
       "      <th>all_awardings</th>\n",
       "      <th>allow_live_comments</th>\n",
       "      <th>author</th>\n",
       "      <th>author_flair_css_class</th>\n",
       "      <th>author_flair_richtext</th>\n",
       "      <th>author_flair_text</th>\n",
       "      <th>author_flair_type</th>\n",
       "      <th>author_fullname</th>\n",
       "      <th>author_patreon_flair</th>\n",
       "      <th>author_premium</th>\n",
       "      <th>...</th>\n",
       "      <th>suggested_sort</th>\n",
       "      <th>author_cakeday</th>\n",
       "      <th>crosspost_parent</th>\n",
       "      <th>crosspost_parent_list</th>\n",
       "      <th>thumbnail_height</th>\n",
       "      <th>thumbnail_width</th>\n",
       "      <th>url_overridden_by_dest</th>\n",
       "      <th>edited</th>\n",
       "      <th>banned_by</th>\n",
       "      <th>distinguished</th>\n",
       "    </tr>\n",
       "  </thead>\n",
       "  <tbody>\n",
       "    <tr>\n",
       "      <th>0</th>\n",
       "      <td>[]</td>\n",
       "      <td>False</td>\n",
       "      <td>Tuniac</td>\n",
       "      <td>None</td>\n",
       "      <td>[]</td>\n",
       "      <td>None</td>\n",
       "      <td>text</td>\n",
       "      <td>t2_978df</td>\n",
       "      <td>False</td>\n",
       "      <td>False</td>\n",
       "      <td>...</td>\n",
       "      <td>NaN</td>\n",
       "      <td>NaN</td>\n",
       "      <td>NaN</td>\n",
       "      <td>NaN</td>\n",
       "      <td>NaN</td>\n",
       "      <td>NaN</td>\n",
       "      <td>NaN</td>\n",
       "      <td>NaN</td>\n",
       "      <td>NaN</td>\n",
       "      <td>NaN</td>\n",
       "    </tr>\n",
       "    <tr>\n",
       "      <th>1</th>\n",
       "      <td>[]</td>\n",
       "      <td>False</td>\n",
       "      <td>out-of-the-ordinary</td>\n",
       "      <td>None</td>\n",
       "      <td>[]</td>\n",
       "      <td>None</td>\n",
       "      <td>text</td>\n",
       "      <td>t2_5etcgj4w</td>\n",
       "      <td>False</td>\n",
       "      <td>False</td>\n",
       "      <td>...</td>\n",
       "      <td>NaN</td>\n",
       "      <td>NaN</td>\n",
       "      <td>NaN</td>\n",
       "      <td>NaN</td>\n",
       "      <td>NaN</td>\n",
       "      <td>NaN</td>\n",
       "      <td>NaN</td>\n",
       "      <td>NaN</td>\n",
       "      <td>NaN</td>\n",
       "      <td>NaN</td>\n",
       "    </tr>\n",
       "    <tr>\n",
       "      <th>2</th>\n",
       "      <td>[]</td>\n",
       "      <td>False</td>\n",
       "      <td>ChristopherEv</td>\n",
       "      <td>None</td>\n",
       "      <td>[]</td>\n",
       "      <td>None</td>\n",
       "      <td>text</td>\n",
       "      <td>t2_q72eyoi</td>\n",
       "      <td>False</td>\n",
       "      <td>False</td>\n",
       "      <td>...</td>\n",
       "      <td>NaN</td>\n",
       "      <td>NaN</td>\n",
       "      <td>NaN</td>\n",
       "      <td>NaN</td>\n",
       "      <td>NaN</td>\n",
       "      <td>NaN</td>\n",
       "      <td>NaN</td>\n",
       "      <td>NaN</td>\n",
       "      <td>NaN</td>\n",
       "      <td>NaN</td>\n",
       "    </tr>\n",
       "    <tr>\n",
       "      <th>3</th>\n",
       "      <td>[]</td>\n",
       "      <td>False</td>\n",
       "      <td>gainstager</td>\n",
       "      <td>bluestripe</td>\n",
       "      <td>[]</td>\n",
       "      <td>Audio Software</td>\n",
       "      <td>text</td>\n",
       "      <td>t2_3t4mqs5b</td>\n",
       "      <td>False</td>\n",
       "      <td>False</td>\n",
       "      <td>...</td>\n",
       "      <td>NaN</td>\n",
       "      <td>NaN</td>\n",
       "      <td>NaN</td>\n",
       "      <td>NaN</td>\n",
       "      <td>NaN</td>\n",
       "      <td>NaN</td>\n",
       "      <td>NaN</td>\n",
       "      <td>NaN</td>\n",
       "      <td>NaN</td>\n",
       "      <td>NaN</td>\n",
       "    </tr>\n",
       "    <tr>\n",
       "      <th>4</th>\n",
       "      <td>[]</td>\n",
       "      <td>False</td>\n",
       "      <td>ThesisWarrior</td>\n",
       "      <td>None</td>\n",
       "      <td>[]</td>\n",
       "      <td>None</td>\n",
       "      <td>text</td>\n",
       "      <td>t2_1z268pgg</td>\n",
       "      <td>False</td>\n",
       "      <td>False</td>\n",
       "      <td>...</td>\n",
       "      <td>NaN</td>\n",
       "      <td>NaN</td>\n",
       "      <td>NaN</td>\n",
       "      <td>NaN</td>\n",
       "      <td>NaN</td>\n",
       "      <td>NaN</td>\n",
       "      <td>NaN</td>\n",
       "      <td>NaN</td>\n",
       "      <td>NaN</td>\n",
       "      <td>NaN</td>\n",
       "    </tr>\n",
       "  </tbody>\n",
       "</table>\n",
       "<p>5 rows × 76 columns</p>\n",
       "</div>"
      ],
      "text/plain": [
       "  all_awardings  allow_live_comments               author  \\\n",
       "0            []                False               Tuniac   \n",
       "1            []                False  out-of-the-ordinary   \n",
       "2            []                False        ChristopherEv   \n",
       "3            []                False           gainstager   \n",
       "4            []                False        ThesisWarrior   \n",
       "\n",
       "  author_flair_css_class author_flair_richtext author_flair_text  \\\n",
       "0                   None                    []              None   \n",
       "1                   None                    []              None   \n",
       "2                   None                    []              None   \n",
       "3             bluestripe                    []    Audio Software   \n",
       "4                   None                    []              None   \n",
       "\n",
       "  author_flair_type author_fullname author_patreon_flair author_premium  ...  \\\n",
       "0              text        t2_978df                False          False  ...   \n",
       "1              text     t2_5etcgj4w                False          False  ...   \n",
       "2              text      t2_q72eyoi                False          False  ...   \n",
       "3              text     t2_3t4mqs5b                False          False  ...   \n",
       "4              text     t2_1z268pgg                False          False  ...   \n",
       "\n",
       "  suggested_sort  author_cakeday  crosspost_parent  crosspost_parent_list  \\\n",
       "0            NaN             NaN               NaN                    NaN   \n",
       "1            NaN             NaN               NaN                    NaN   \n",
       "2            NaN             NaN               NaN                    NaN   \n",
       "3            NaN             NaN               NaN                    NaN   \n",
       "4            NaN             NaN               NaN                    NaN   \n",
       "\n",
       "  thumbnail_height thumbnail_width url_overridden_by_dest edited  banned_by  \\\n",
       "0              NaN             NaN                    NaN    NaN        NaN   \n",
       "1              NaN             NaN                    NaN    NaN        NaN   \n",
       "2              NaN             NaN                    NaN    NaN        NaN   \n",
       "3              NaN             NaN                    NaN    NaN        NaN   \n",
       "4              NaN             NaN                    NaN    NaN        NaN   \n",
       "\n",
       "   distinguished  \n",
       "0            NaN  \n",
       "1            NaN  \n",
       "2            NaN  \n",
       "3            NaN  \n",
       "4            NaN  \n",
       "\n",
       "[5 rows x 76 columns]"
      ]
     },
     "execution_count": 15,
     "metadata": {},
     "output_type": "execute_result"
    }
   ],
   "source": [
    "audio_df.head()"
   ]
  },
  {
   "cell_type": "code",
   "execution_count": 16,
   "metadata": {},
   "outputs": [
    {
     "data": {
      "text/plain": [
       "Index(['all_awardings', 'allow_live_comments', 'author',\n",
       "       'author_flair_css_class', 'author_flair_richtext', 'author_flair_text',\n",
       "       'author_flair_type', 'author_fullname', 'author_patreon_flair',\n",
       "       'author_premium', 'awarders', 'can_mod_post', 'contest_mode',\n",
       "       'created_utc', 'domain', 'full_link', 'gildings', 'id',\n",
       "       'is_crosspostable', 'is_meta', 'is_original_content',\n",
       "       'is_reddit_media_domain', 'is_robot_indexable', 'is_self', 'is_video',\n",
       "       'link_flair_background_color', 'link_flair_richtext',\n",
       "       'link_flair_text_color', 'link_flair_type', 'locked', 'media_only',\n",
       "       'no_follow', 'num_comments', 'num_crossposts', 'over_18',\n",
       "       'parent_whitelist_status', 'permalink', 'pinned', 'post_hint',\n",
       "       'preview', 'pwls', 'retrieved_on', 'score', 'selftext', 'send_replies',\n",
       "       'spoiler', 'stickied', 'subreddit', 'subreddit_id',\n",
       "       'subreddit_subscribers', 'subreddit_type', 'thumbnail', 'title',\n",
       "       'total_awards_received', 'treatment_tags', 'upvote_ratio', 'url',\n",
       "       'whitelist_status', 'wls', 'author_flair_template_id',\n",
       "       'author_flair_text_color', 'removed_by_category',\n",
       "       'author_flair_background_color', 'collections',\n",
       "       'link_flair_template_id', 'link_flair_text', 'suggested_sort',\n",
       "       'author_cakeday', 'crosspost_parent', 'crosspost_parent_list',\n",
       "       'thumbnail_height', 'thumbnail_width', 'url_overridden_by_dest',\n",
       "       'edited', 'banned_by', 'distinguished'],\n",
       "      dtype='object')"
      ]
     },
     "execution_count": 16,
     "metadata": {},
     "output_type": "execute_result"
    }
   ],
   "source": [
    "audio_df.columns"
   ]
  },
  {
   "cell_type": "code",
   "execution_count": 17,
   "metadata": {},
   "outputs": [
    {
     "data": {
      "text/plain": [
       "all_awardings                0\n",
       "allow_live_comments          0\n",
       "author                       0\n",
       "author_flair_css_class    4872\n",
       "author_flair_richtext       34\n",
       "                          ... \n",
       "thumbnail_width           4992\n",
       "url_overridden_by_dest    4949\n",
       "edited                    4969\n",
       "banned_by                 4990\n",
       "distinguished             4957\n",
       "Length: 76, dtype: int64"
      ]
     },
     "execution_count": 17,
     "metadata": {},
     "output_type": "execute_result"
    }
   ],
   "source": [
    "audio_df.isnull().sum()"
   ]
  },
  {
   "cell_type": "code",
   "execution_count": 18,
   "metadata": {},
   "outputs": [],
   "source": [
    "# Modifying dataframe to contain only relevant features for building my model.\n",
    "audio_df = audio_df[['subreddit', 'author', 'title', 'selftext']]"
   ]
  },
  {
   "cell_type": "code",
   "execution_count": 19,
   "metadata": {},
   "outputs": [
    {
     "data": {
      "text/html": [
       "<div>\n",
       "<style scoped>\n",
       "    .dataframe tbody tr th:only-of-type {\n",
       "        vertical-align: middle;\n",
       "    }\n",
       "\n",
       "    .dataframe tbody tr th {\n",
       "        vertical-align: top;\n",
       "    }\n",
       "\n",
       "    .dataframe thead th {\n",
       "        text-align: right;\n",
       "    }\n",
       "</style>\n",
       "<table border=\"1\" class=\"dataframe\">\n",
       "  <thead>\n",
       "    <tr style=\"text-align: right;\">\n",
       "      <th></th>\n",
       "      <th>subreddit</th>\n",
       "      <th>author</th>\n",
       "      <th>title</th>\n",
       "      <th>selftext</th>\n",
       "    </tr>\n",
       "  </thead>\n",
       "  <tbody>\n",
       "    <tr>\n",
       "      <th>0</th>\n",
       "      <td>audioengineering</td>\n",
       "      <td>Tuniac</td>\n",
       "      <td>Help Identifying a Mic</td>\n",
       "      <td>[https://www.youtube.com/watch?v=Gr9mOTKQELE&amp;a...</td>\n",
       "    </tr>\n",
       "    <tr>\n",
       "      <th>1</th>\n",
       "      <td>audioengineering</td>\n",
       "      <td>out-of-the-ordinary</td>\n",
       "      <td>Import eq filters to t.racks dsp 4x4 mini from...</td>\n",
       "      <td>Hello dear people of the internet,\\n\\n&amp;amp;#x2...</td>\n",
       "    </tr>\n",
       "    <tr>\n",
       "      <th>2</th>\n",
       "      <td>audioengineering</td>\n",
       "      <td>ChristopherEv</td>\n",
       "      <td>Could I theoretically split a male 3.5mm into ...</td>\n",
       "      <td>Basically I have a headset with microphone and...</td>\n",
       "    </tr>\n",
       "    <tr>\n",
       "      <th>3</th>\n",
       "      <td>audioengineering</td>\n",
       "      <td>gainstager</td>\n",
       "      <td>I’ve got a great mix, but I know it will be a ...</td>\n",
       "      <td>I’ve been working on a mix for a little too lo...</td>\n",
       "    </tr>\n",
       "    <tr>\n",
       "      <th>4</th>\n",
       "      <td>audioengineering</td>\n",
       "      <td>ThesisWarrior</td>\n",
       "      <td>Attack and Release on a Compressor - HOW sound...</td>\n",
       "      <td>Hi all - ive created a basic diagram graphic f...</td>\n",
       "    </tr>\n",
       "  </tbody>\n",
       "</table>\n",
       "</div>"
      ],
      "text/plain": [
       "          subreddit               author  \\\n",
       "0  audioengineering               Tuniac   \n",
       "1  audioengineering  out-of-the-ordinary   \n",
       "2  audioengineering        ChristopherEv   \n",
       "3  audioengineering           gainstager   \n",
       "4  audioengineering        ThesisWarrior   \n",
       "\n",
       "                                               title  \\\n",
       "0                             Help Identifying a Mic   \n",
       "1  Import eq filters to t.racks dsp 4x4 mini from...   \n",
       "2  Could I theoretically split a male 3.5mm into ...   \n",
       "3  I’ve got a great mix, but I know it will be a ...   \n",
       "4  Attack and Release on a Compressor - HOW sound...   \n",
       "\n",
       "                                            selftext  \n",
       "0  [https://www.youtube.com/watch?v=Gr9mOTKQELE&a...  \n",
       "1  Hello dear people of the internet,\\n\\n&amp;#x2...  \n",
       "2  Basically I have a headset with microphone and...  \n",
       "3  I’ve been working on a mix for a little too lo...  \n",
       "4  Hi all - ive created a basic diagram graphic f...  "
      ]
     },
     "execution_count": 19,
     "metadata": {},
     "output_type": "execute_result"
    }
   ],
   "source": [
    "audio_df.head()"
   ]
  },
  {
   "cell_type": "code",
   "execution_count": 20,
   "metadata": {},
   "outputs": [
    {
     "data": {
      "text/html": [
       "<div>\n",
       "<style scoped>\n",
       "    .dataframe tbody tr th:only-of-type {\n",
       "        vertical-align: middle;\n",
       "    }\n",
       "\n",
       "    .dataframe tbody tr th {\n",
       "        vertical-align: top;\n",
       "    }\n",
       "\n",
       "    .dataframe thead th {\n",
       "        text-align: right;\n",
       "    }\n",
       "</style>\n",
       "<table border=\"1\" class=\"dataframe\">\n",
       "  <thead>\n",
       "    <tr style=\"text-align: right;\">\n",
       "      <th></th>\n",
       "      <th>subreddit</th>\n",
       "      <th>author</th>\n",
       "      <th>title</th>\n",
       "      <th>selftext</th>\n",
       "    </tr>\n",
       "  </thead>\n",
       "  <tbody>\n",
       "    <tr>\n",
       "      <th>229</th>\n",
       "      <td>audioengineering</td>\n",
       "      <td>staticblue38</td>\n",
       "      <td>[Black Friday] 60% Off 3000+ Sample Packs, Tem...</td>\n",
       "      <td>[removed]</td>\n",
       "    </tr>\n",
       "  </tbody>\n",
       "</table>\n",
       "</div>"
      ],
      "text/plain": [
       "            subreddit        author  \\\n",
       "229  audioengineering  staticblue38   \n",
       "\n",
       "                                                 title   selftext  \n",
       "229  [Black Friday] 60% Off 3000+ Sample Packs, Tem...  [removed]  "
      ]
     },
     "execution_count": 20,
     "metadata": {},
     "output_type": "execute_result"
    }
   ],
   "source": [
    "# I noticed the author 'staticblue38' seemed to be posting lots of spam, so here looking for instances of his postings.\n",
    "# All appear to be spam, so I'll drop all his posts.\n",
    "audio_df[audio_df['author'] == 'staticblue38']"
   ]
  },
  {
   "cell_type": "code",
   "execution_count": 21,
   "metadata": {},
   "outputs": [],
   "source": [
    "# Dropping staticblue38's posts.\n",
    "audio_df = audio_df[audio_df['author'] != 'staticblue38']"
   ]
  },
  {
   "cell_type": "code",
   "execution_count": 22,
   "metadata": {},
   "outputs": [
    {
     "data": {
      "text/html": [
       "<div>\n",
       "<style scoped>\n",
       "    .dataframe tbody tr th:only-of-type {\n",
       "        vertical-align: middle;\n",
       "    }\n",
       "\n",
       "    .dataframe tbody tr th {\n",
       "        vertical-align: top;\n",
       "    }\n",
       "\n",
       "    .dataframe thead th {\n",
       "        text-align: right;\n",
       "    }\n",
       "</style>\n",
       "<table border=\"1\" class=\"dataframe\">\n",
       "  <thead>\n",
       "    <tr style=\"text-align: right;\">\n",
       "      <th></th>\n",
       "      <th>subreddit</th>\n",
       "      <th>author</th>\n",
       "      <th>title</th>\n",
       "      <th>selftext</th>\n",
       "    </tr>\n",
       "  </thead>\n",
       "  <tbody>\n",
       "    <tr>\n",
       "      <th>8</th>\n",
       "      <td>audioengineering</td>\n",
       "      <td>Murky_Yogurtcloset56</td>\n",
       "      <td>Add artificial emotion to a tts bot?</td>\n",
       "      <td>[removed]</td>\n",
       "    </tr>\n",
       "    <tr>\n",
       "      <th>42</th>\n",
       "      <td>audioengineering</td>\n",
       "      <td>Pmalo512</td>\n",
       "      <td>Where do I start!?!?</td>\n",
       "      <td>[removed]</td>\n",
       "    </tr>\n",
       "    <tr>\n",
       "      <th>48</th>\n",
       "      <td>audioengineering</td>\n",
       "      <td>ruqweller</td>\n",
       "      <td>Behringer U-Phoria UM2 Auido Interface Weird N...</td>\n",
       "      <td>[removed]</td>\n",
       "    </tr>\n",
       "    <tr>\n",
       "      <th>50</th>\n",
       "      <td>audioengineering</td>\n",
       "      <td>Gangliitis</td>\n",
       "      <td>Turn Text into Human Sounding Voiceovers (One ...</td>\n",
       "      <td>[removed]</td>\n",
       "    </tr>\n",
       "    <tr>\n",
       "      <th>59</th>\n",
       "      <td>audioengineering</td>\n",
       "      <td>hoppedoffzeeplane</td>\n",
       "      <td>Anyone know some reputable mastering engineers...</td>\n",
       "      <td>[removed]</td>\n",
       "    </tr>\n",
       "    <tr>\n",
       "      <th>...</th>\n",
       "      <td>...</td>\n",
       "      <td>...</td>\n",
       "      <td>...</td>\n",
       "      <td>...</td>\n",
       "    </tr>\n",
       "    <tr>\n",
       "      <th>4954</th>\n",
       "      <td>audioengineering</td>\n",
       "      <td>frmrmtribmbr</td>\n",
       "      <td>Uli Behringer is a racist and a sexist. Worked...</td>\n",
       "      <td>[removed]</td>\n",
       "    </tr>\n",
       "    <tr>\n",
       "      <th>4966</th>\n",
       "      <td>audioengineering</td>\n",
       "      <td>elhemida</td>\n",
       "      <td>A fake neumann u87ai on aliexpress ? Wondering...</td>\n",
       "      <td>[removed]</td>\n",
       "    </tr>\n",
       "    <tr>\n",
       "      <th>4971</th>\n",
       "      <td>audioengineering</td>\n",
       "      <td>KrutoChuvak265</td>\n",
       "      <td>Which Pair of Headphones Would You Guys Recomm...</td>\n",
       "      <td>[removed]</td>\n",
       "    </tr>\n",
       "    <tr>\n",
       "      <th>4986</th>\n",
       "      <td>audioengineering</td>\n",
       "      <td>fishermansbluegrass</td>\n",
       "      <td>UA Needs our help</td>\n",
       "      <td>[removed]</td>\n",
       "    </tr>\n",
       "    <tr>\n",
       "      <th>4995</th>\n",
       "      <td>audioengineering</td>\n",
       "      <td>joshmelo</td>\n",
       "      <td>The state of plugin licensing is terrible.</td>\n",
       "      <td>[removed]</td>\n",
       "    </tr>\n",
       "  </tbody>\n",
       "</table>\n",
       "<p>377 rows × 4 columns</p>\n",
       "</div>"
      ],
      "text/plain": [
       "             subreddit                author  \\\n",
       "8     audioengineering  Murky_Yogurtcloset56   \n",
       "42    audioengineering              Pmalo512   \n",
       "48    audioengineering             ruqweller   \n",
       "50    audioengineering            Gangliitis   \n",
       "59    audioengineering     hoppedoffzeeplane   \n",
       "...                ...                   ...   \n",
       "4954  audioengineering          frmrmtribmbr   \n",
       "4966  audioengineering              elhemida   \n",
       "4971  audioengineering        KrutoChuvak265   \n",
       "4986  audioengineering   fishermansbluegrass   \n",
       "4995  audioengineering              joshmelo   \n",
       "\n",
       "                                                  title   selftext  \n",
       "8                  Add artificial emotion to a tts bot?  [removed]  \n",
       "42                                 Where do I start!?!?  [removed]  \n",
       "48    Behringer U-Phoria UM2 Auido Interface Weird N...  [removed]  \n",
       "50    Turn Text into Human Sounding Voiceovers (One ...  [removed]  \n",
       "59    Anyone know some reputable mastering engineers...  [removed]  \n",
       "...                                                 ...        ...  \n",
       "4954  Uli Behringer is a racist and a sexist. Worked...  [removed]  \n",
       "4966  A fake neumann u87ai on aliexpress ? Wondering...  [removed]  \n",
       "4971  Which Pair of Headphones Would You Guys Recomm...  [removed]  \n",
       "4986                                  UA Needs our help  [removed]  \n",
       "4995         The state of plugin licensing is terrible.  [removed]  \n",
       "\n",
       "[377 rows x 4 columns]"
      ]
     },
     "execution_count": 22,
     "metadata": {},
     "output_type": "execute_result"
    }
   ],
   "source": [
    "# Looking for instances of removed posts in selftext - designated on Reddit with '[removed]'.\n",
    "audio_df[audio_df['selftext'] == '[removed]']"
   ]
  },
  {
   "cell_type": "code",
   "execution_count": 23,
   "metadata": {},
   "outputs": [],
   "source": [
    "# Removing 'removed' selftext rows.\n",
    "audio_df = audio_df[audio_df['selftext'] != '[removed]']"
   ]
  },
  {
   "cell_type": "code",
   "execution_count": 24,
   "metadata": {},
   "outputs": [],
   "source": [
    "# Engineering a new feature, 'full_post', to contain title and selftext (in other words, the entire content of the user's original post, comments excluded).\n",
    "audio_df['full_post'] = audio_df['title'] + ' ' + audio_df['selftext']"
   ]
  },
  {
   "cell_type": "code",
   "execution_count": 25,
   "metadata": {},
   "outputs": [
    {
     "data": {
      "text/plain": [
       "(4622, 5)"
      ]
     },
     "execution_count": 25,
     "metadata": {},
     "output_type": "execute_result"
    }
   ],
   "source": [
    "audio_df.shape"
   ]
  },
  {
   "cell_type": "code",
   "execution_count": 26,
   "metadata": {},
   "outputs": [
    {
     "data": {
      "text/html": [
       "<div>\n",
       "<style scoped>\n",
       "    .dataframe tbody tr th:only-of-type {\n",
       "        vertical-align: middle;\n",
       "    }\n",
       "\n",
       "    .dataframe tbody tr th {\n",
       "        vertical-align: top;\n",
       "    }\n",
       "\n",
       "    .dataframe thead th {\n",
       "        text-align: right;\n",
       "    }\n",
       "</style>\n",
       "<table border=\"1\" class=\"dataframe\">\n",
       "  <thead>\n",
       "    <tr style=\"text-align: right;\">\n",
       "      <th></th>\n",
       "      <th>subreddit</th>\n",
       "      <th>author</th>\n",
       "      <th>title</th>\n",
       "      <th>selftext</th>\n",
       "      <th>full_post</th>\n",
       "    </tr>\n",
       "  </thead>\n",
       "  <tbody>\n",
       "    <tr>\n",
       "      <th>0</th>\n",
       "      <td>audioengineering</td>\n",
       "      <td>Tuniac</td>\n",
       "      <td>Help Identifying a Mic</td>\n",
       "      <td>[https://www.youtube.com/watch?v=Gr9mOTKQELE&amp;a...</td>\n",
       "      <td>Help Identifying a Mic [https://www.youtube.co...</td>\n",
       "    </tr>\n",
       "    <tr>\n",
       "      <th>1</th>\n",
       "      <td>audioengineering</td>\n",
       "      <td>out-of-the-ordinary</td>\n",
       "      <td>Import eq filters to t.racks dsp 4x4 mini from...</td>\n",
       "      <td>Hello dear people of the internet,\\n\\n&amp;amp;#x2...</td>\n",
       "      <td>Import eq filters to t.racks dsp 4x4 mini from...</td>\n",
       "    </tr>\n",
       "    <tr>\n",
       "      <th>2</th>\n",
       "      <td>audioengineering</td>\n",
       "      <td>ChristopherEv</td>\n",
       "      <td>Could I theoretically split a male 3.5mm into ...</td>\n",
       "      <td>Basically I have a headset with microphone and...</td>\n",
       "      <td>Could I theoretically split a male 3.5mm into ...</td>\n",
       "    </tr>\n",
       "    <tr>\n",
       "      <th>3</th>\n",
       "      <td>audioengineering</td>\n",
       "      <td>gainstager</td>\n",
       "      <td>I’ve got a great mix, but I know it will be a ...</td>\n",
       "      <td>I’ve been working on a mix for a little too lo...</td>\n",
       "      <td>I’ve got a great mix, but I know it will be a ...</td>\n",
       "    </tr>\n",
       "    <tr>\n",
       "      <th>4</th>\n",
       "      <td>audioengineering</td>\n",
       "      <td>ThesisWarrior</td>\n",
       "      <td>Attack and Release on a Compressor - HOW sound...</td>\n",
       "      <td>Hi all - ive created a basic diagram graphic f...</td>\n",
       "      <td>Attack and Release on a Compressor - HOW sound...</td>\n",
       "    </tr>\n",
       "  </tbody>\n",
       "</table>\n",
       "</div>"
      ],
      "text/plain": [
       "          subreddit               author  \\\n",
       "0  audioengineering               Tuniac   \n",
       "1  audioengineering  out-of-the-ordinary   \n",
       "2  audioengineering        ChristopherEv   \n",
       "3  audioengineering           gainstager   \n",
       "4  audioengineering        ThesisWarrior   \n",
       "\n",
       "                                               title  \\\n",
       "0                             Help Identifying a Mic   \n",
       "1  Import eq filters to t.racks dsp 4x4 mini from...   \n",
       "2  Could I theoretically split a male 3.5mm into ...   \n",
       "3  I’ve got a great mix, but I know it will be a ...   \n",
       "4  Attack and Release on a Compressor - HOW sound...   \n",
       "\n",
       "                                            selftext  \\\n",
       "0  [https://www.youtube.com/watch?v=Gr9mOTKQELE&a...   \n",
       "1  Hello dear people of the internet,\\n\\n&amp;#x2...   \n",
       "2  Basically I have a headset with microphone and...   \n",
       "3  I’ve been working on a mix for a little too lo...   \n",
       "4  Hi all - ive created a basic diagram graphic f...   \n",
       "\n",
       "                                           full_post  \n",
       "0  Help Identifying a Mic [https://www.youtube.co...  \n",
       "1  Import eq filters to t.racks dsp 4x4 mini from...  \n",
       "2  Could I theoretically split a male 3.5mm into ...  \n",
       "3  I’ve got a great mix, but I know it will be a ...  \n",
       "4  Attack and Release on a Compressor - HOW sound...  "
      ]
     },
     "execution_count": 26,
     "metadata": {},
     "output_type": "execute_result"
    }
   ],
   "source": [
    "audio_df.head()"
   ]
  },
  {
   "cell_type": "code",
   "execution_count": 27,
   "metadata": {},
   "outputs": [
    {
     "data": {
      "text/plain": [
       "(4622, 5)"
      ]
     },
     "execution_count": 27,
     "metadata": {},
     "output_type": "execute_result"
    }
   ],
   "source": [
    "audio_df.shape"
   ]
  },
  {
   "cell_type": "code",
   "execution_count": 28,
   "metadata": {},
   "outputs": [
    {
     "data": {
      "text/plain": [
       "(4594, 5)"
      ]
     },
     "execution_count": 28,
     "metadata": {},
     "output_type": "execute_result"
    }
   ],
   "source": [
    "audio_df.drop_duplicates().shape"
   ]
  },
  {
   "cell_type": "code",
   "execution_count": 29,
   "metadata": {},
   "outputs": [],
   "source": [
    "audio_df.drop_duplicates(inplace = True)"
   ]
  },
  {
   "cell_type": "code",
   "execution_count": 30,
   "metadata": {},
   "outputs": [
    {
     "data": {
      "text/plain": [
       "subreddit     0\n",
       "author        0\n",
       "title         0\n",
       "selftext     10\n",
       "full_post    10\n",
       "dtype: int64"
      ]
     },
     "execution_count": 30,
     "metadata": {},
     "output_type": "execute_result"
    }
   ],
   "source": [
    "audio_df.isnull().sum()"
   ]
  },
  {
   "cell_type": "code",
   "execution_count": 31,
   "metadata": {},
   "outputs": [],
   "source": [
    "audio_df = audio_df.dropna()"
   ]
  },
  {
   "cell_type": "code",
   "execution_count": 32,
   "metadata": {},
   "outputs": [
    {
     "data": {
      "text/plain": [
       "(4584, 5)"
      ]
     },
     "execution_count": 32,
     "metadata": {},
     "output_type": "execute_result"
    }
   ],
   "source": [
    "audio_df.shape"
   ]
  },
  {
   "cell_type": "markdown",
   "metadata": {},
   "source": [
    "---"
   ]
  },
  {
   "cell_type": "code",
   "execution_count": 33,
   "metadata": {},
   "outputs": [],
   "source": [
    "# Saving initial cleaned dataframe for Audio Engineering subreddit to csv.\n",
    "audio_df.to_csv('../data/audioengineering_subreddit_01.csv', index = False)"
   ]
  }
 ],
 "metadata": {
  "kernelspec": {
   "display_name": "Python 3",
   "language": "python",
   "name": "python3"
  },
  "language_info": {
   "codemirror_mode": {
    "name": "ipython",
    "version": 3
   },
   "file_extension": ".py",
   "mimetype": "text/x-python",
   "name": "python",
   "nbconvert_exporter": "python",
   "pygments_lexer": "ipython3",
   "version": "3.8.5"
  }
 },
 "nbformat": 4,
 "nbformat_minor": 4
}
