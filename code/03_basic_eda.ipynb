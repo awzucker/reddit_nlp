{
 "cells": [
  {
   "cell_type": "markdown",
   "metadata": {},
   "source": [
    "<img src=\"http://imgur.com/1ZcRyrc.png\" style=\"float: left; margin: 20px; height: 55px\">\n",
    "\n",
    "# Project 3: Notebook 3\n",
    "## Basic EDA Across Subreddits"
   ]
  },
  {
   "cell_type": "markdown",
   "metadata": {},
   "source": [
    "---\n",
    "## Section 1: Imports\n",
    "\n",
    "---"
   ]
  },
  {
   "cell_type": "markdown",
   "metadata": {},
   "source": [
    "**BELOW:** Importing Python libraries for processing and testing my first Subreddit. With help from a [YouTube video](https://www.youtube.com/watch?v=AcrjEWsMi_E&feature=youtu.be) by GA instructor Riley Dallas."
   ]
  },
  {
   "cell_type": "code",
   "execution_count": 1,
   "metadata": {},
   "outputs": [],
   "source": [
    "import numpy as np\n",
    "import pandas as pd\n",
    "import matplotlib.pyplot as plt\n",
    "import seaborn as sns\n",
    "\n",
    "from sklearn.feature_extraction.text import CountVectorizer, TfidfVectorizer\n",
    "\n",
    "from nltk.tokenize import RegexpTokenizer\n",
    "from nltk.sentiment.vader import SentimentIntensityAnalyzer"
   ]
  },
  {
   "cell_type": "markdown",
   "metadata": {},
   "source": [
    "---\n",
    "## Section 2: Audio Engineering EDA\n",
    "---"
   ]
  },
  {
   "cell_type": "code",
   "execution_count": 2,
   "metadata": {},
   "outputs": [
    {
     "data": {
      "text/html": [
       "<div>\n",
       "<style scoped>\n",
       "    .dataframe tbody tr th:only-of-type {\n",
       "        vertical-align: middle;\n",
       "    }\n",
       "\n",
       "    .dataframe tbody tr th {\n",
       "        vertical-align: top;\n",
       "    }\n",
       "\n",
       "    .dataframe thead th {\n",
       "        text-align: right;\n",
       "    }\n",
       "</style>\n",
       "<table border=\"1\" class=\"dataframe\">\n",
       "  <thead>\n",
       "    <tr style=\"text-align: right;\">\n",
       "      <th></th>\n",
       "      <th>subreddit</th>\n",
       "      <th>author</th>\n",
       "      <th>title</th>\n",
       "      <th>selftext</th>\n",
       "      <th>full_post</th>\n",
       "    </tr>\n",
       "  </thead>\n",
       "  <tbody>\n",
       "    <tr>\n",
       "      <th>0</th>\n",
       "      <td>audioengineering</td>\n",
       "      <td>Tuniac</td>\n",
       "      <td>Help Identifying a Mic</td>\n",
       "      <td>[https://www.youtube.com/watch?v=Gr9mOTKQELE&amp;a...</td>\n",
       "      <td>Help Identifying a Mic [https://www.youtube.co...</td>\n",
       "    </tr>\n",
       "    <tr>\n",
       "      <th>1</th>\n",
       "      <td>audioengineering</td>\n",
       "      <td>out-of-the-ordinary</td>\n",
       "      <td>Import eq filters to t.racks dsp 4x4 mini from...</td>\n",
       "      <td>Hello dear people of the internet,\\n\\n&amp;amp;#x2...</td>\n",
       "      <td>Import eq filters to t.racks dsp 4x4 mini from...</td>\n",
       "    </tr>\n",
       "  </tbody>\n",
       "</table>\n",
       "</div>"
      ],
      "text/plain": [
       "          subreddit               author  \\\n",
       "0  audioengineering               Tuniac   \n",
       "1  audioengineering  out-of-the-ordinary   \n",
       "\n",
       "                                               title  \\\n",
       "0                             Help Identifying a Mic   \n",
       "1  Import eq filters to t.racks dsp 4x4 mini from...   \n",
       "\n",
       "                                            selftext  \\\n",
       "0  [https://www.youtube.com/watch?v=Gr9mOTKQELE&a...   \n",
       "1  Hello dear people of the internet,\\n\\n&amp;#x2...   \n",
       "\n",
       "                                           full_post  \n",
       "0  Help Identifying a Mic [https://www.youtube.co...  \n",
       "1  Import eq filters to t.racks dsp 4x4 mini from...  "
      ]
     },
     "execution_count": 2,
     "metadata": {},
     "output_type": "execute_result"
    }
   ],
   "source": [
    "# Importing Audio Engineering dataframe.\n",
    "audio_df = pd.read_csv('../data/audioengineering_subreddit_01.csv')\n",
    "audio_df.head(2)"
   ]
  },
  {
   "cell_type": "code",
   "execution_count": 3,
   "metadata": {},
   "outputs": [
    {
     "data": {
      "text/html": [
       "<div>\n",
       "<style scoped>\n",
       "    .dataframe tbody tr th:only-of-type {\n",
       "        vertical-align: middle;\n",
       "    }\n",
       "\n",
       "    .dataframe tbody tr th {\n",
       "        vertical-align: top;\n",
       "    }\n",
       "\n",
       "    .dataframe thead th {\n",
       "        text-align: right;\n",
       "    }\n",
       "</style>\n",
       "<table border=\"1\" class=\"dataframe\">\n",
       "  <thead>\n",
       "    <tr style=\"text-align: right;\">\n",
       "      <th></th>\n",
       "      <th>subreddit</th>\n",
       "      <th>full_post</th>\n",
       "    </tr>\n",
       "  </thead>\n",
       "  <tbody>\n",
       "    <tr>\n",
       "      <th>0</th>\n",
       "      <td>audioengineering</td>\n",
       "      <td>Help Identifying a Mic [https://www.youtube.co...</td>\n",
       "    </tr>\n",
       "    <tr>\n",
       "      <th>1</th>\n",
       "      <td>audioengineering</td>\n",
       "      <td>Import eq filters to t.racks dsp 4x4 mini from...</td>\n",
       "    </tr>\n",
       "  </tbody>\n",
       "</table>\n",
       "</div>"
      ],
      "text/plain": [
       "          subreddit                                          full_post\n",
       "0  audioengineering  Help Identifying a Mic [https://www.youtube.co...\n",
       "1  audioengineering  Import eq filters to t.racks dsp 4x4 mini from..."
      ]
     },
     "execution_count": 3,
     "metadata": {},
     "output_type": "execute_result"
    }
   ],
   "source": [
    "audio_df = audio_df.drop(columns = ['author', 'title', 'selftext'])\n",
    "audio_df.head(2)"
   ]
  },
  {
   "cell_type": "markdown",
   "metadata": {},
   "source": [
    "**BELOW:** Instantiating and fitting a CountVectorizer instance to explore my data further. With guidance from Lesson 5.04."
   ]
  },
  {
   "cell_type": "code",
   "execution_count": 4,
   "metadata": {},
   "outputs": [],
   "source": [
    "cvec = CountVectorizer()\n",
    "X = audio_df['full_post']\n",
    "cvec.fit(X)\n",
    "X_trans = cvec.transform(X)"
   ]
  },
  {
   "cell_type": "code",
   "execution_count": 5,
   "metadata": {},
   "outputs": [
    {
     "data": {
      "text/plain": [
       "['00', '000', '000eur', '000ish', '001', '002', '0023', '007', '01', '012']"
      ]
     },
     "execution_count": 5,
     "metadata": {},
     "output_type": "execute_result"
    }
   ],
   "source": [
    "cvec.get_feature_names()[0:10]"
   ]
  },
  {
   "cell_type": "code",
   "execution_count": 6,
   "metadata": {},
   "outputs": [
    {
     "data": {
      "text/plain": [
       "(4584, 18862)"
      ]
     },
     "execution_count": 6,
     "metadata": {},
     "output_type": "execute_result"
    }
   ],
   "source": [
    "X_trans.shape"
   ]
  },
  {
   "cell_type": "code",
   "execution_count": 7,
   "metadata": {},
   "outputs": [
    {
     "data": {
      "image/png": "[encoded data removed]",
      "text/plain": [
       "<Figure size 936x648 with 1 Axes>"
      ]
     },
     "metadata": {
      "needs_background": "light"
     },
     "output_type": "display_data"
    }
   ],
   "source": [
    "# Saving my training data to a dataframe using the pandas method 'todense()', and setting columns as my tokens from the cvec model.\n",
    "X_df = pd.DataFrame(X_trans.todense(), columns = cvec.get_feature_names())\n",
    "\n",
    "# Plotting most frequently occurring words in a bar chart.\n",
    "plt.figure(figsize = (13, 9))\n",
    "X_df.sum().sort_values(ascending = False).head(20).plot(kind = 'barh')\n",
    "plt.xlabel('Count', size = 17)\n",
    "plt.ylabel('Token', size = 17)\n",
    "plt.title('Audio Engineering: Top Tokens without Stop Words', size = 20);"
   ]
  },
  {
   "cell_type": "markdown",
   "metadata": {},
   "source": [
    "---"
   ]
  },
  {
   "cell_type": "code",
   "execution_count": 8,
   "metadata": {},
   "outputs": [],
   "source": [
    "# Looking at most frequently occurring words with stop words set to English.\n",
    "cvec2 = CountVectorizer(stop_words = 'english')\n",
    "X2 = audio_df['full_post']\n",
    "cvec2.fit(X)\n",
    "X_trans2 = cvec2.transform(X)"
   ]
  },
  {
   "cell_type": "code",
   "execution_count": 9,
   "metadata": {},
   "outputs": [
    {
     "data": {
      "image/png": "[encoded data removed]",
      "text/plain": [
       "<Figure size 936x648 with 1 Axes>"
      ]
     },
     "metadata": {
      "needs_background": "light"
     },
     "output_type": "display_data"
    }
   ],
   "source": [
    "# Saving my training data to a dataframe using the pandas method 'todense()', and setting columns as my tokens from the cvec model.\n",
    "X2_df = pd.DataFrame(X_trans2.todense(), columns = cvec2.get_feature_names())\n",
    "\n",
    "# Plotting most frequently occurring words in a bar chart.\n",
    "plt.figure(figsize = (13, 9))\n",
    "X2_df.sum().sort_values(ascending = False).head(20).plot(kind = 'barh')\n",
    "plt.xlabel('Count', size = 17)\n",
    "plt.ylabel('Token', size = 17)\n",
    "plt.title('Audio Engineering: Top Tokens with English Stop Words', size = 20);"
   ]
  },
  {
   "cell_type": "markdown",
   "metadata": {},
   "source": [
    "---"
   ]
  },
  {
   "cell_type": "code",
   "execution_count": 10,
   "metadata": {},
   "outputs": [],
   "source": [
    "# Defining my own stop words, to be used in conjunction with the default English stop words.\n",
    "my_stops = ['ve', 'don', 'good', 'bad', 'https', 'com', 'www', 'll', 'just', 'want', 'new', 'like', 'does',\n",
    "            'feel', 'think', 'use', 'amp', 'x200b','let', 'got', 'know', 'really', 'way', 'song', 'songs', 'audio']"
   ]
  },
  {
   "cell_type": "code",
   "execution_count": 11,
   "metadata": {},
   "outputs": [],
   "source": [
    "# Combining my stop words list with the default sklearn English stop word list.\n",
    "# With guidance from this Kaggle post: https://www.kaggle.com/c/msk-redefining-cancer-treatment/discussion/37679\n",
    "from sklearn.feature_extraction import text\n",
    "\n",
    "stops = text.ENGLISH_STOP_WORDS.union(my_stops)"
   ]
  },
  {
   "cell_type": "markdown",
   "metadata": {},
   "source": [
    "---"
   ]
  },
  {
   "cell_type": "code",
   "execution_count": 12,
   "metadata": {},
   "outputs": [],
   "source": [
    "# Looking at most frequently occurring words with stop words set to my custom list.\n",
    "cvec3 = CountVectorizer(stop_words = stops)\n",
    "X3 = audio_df['full_post']\n",
    "cvec3.fit(X)\n",
    "X_trans3 = cvec3.transform(X)"
   ]
  },
  {
   "cell_type": "code",
   "execution_count": 13,
   "metadata": {},
   "outputs": [
    {
     "data": {
      "image/png": "[encoded data removed]",
      "text/plain": [
       "<Figure size 936x648 with 1 Axes>"
      ]
     },
     "metadata": {
      "needs_background": "light"
     },
     "output_type": "display_data"
    }
   ],
   "source": [
    "# Saving my training data to a dataframe using the pandas method 'todense()', and setting columns as my tokens from the cvec model.\n",
    "X3_df = pd.DataFrame(X_trans3.todense(), columns = cvec3.get_feature_names())\n",
    "\n",
    "# Plotting most frequently occurring words in a bar chart.\n",
    "plt.figure(figsize = (13, 9))\n",
    "X3_df.sum().sort_values(ascending = False).head(20).plot(kind = 'barh')\n",
    "plt.xlabel('Count', size = 17)\n",
    "plt.ylabel('Token', size = 17)\n",
    "plt.title('Audio Engineering: Top Tokens with Custom Stop Words', size = 20);"
   ]
  },
  {
   "cell_type": "markdown",
   "metadata": {},
   "source": [
    "After using my custom stop words to filter out most common words in Audio Engineering, I noticed a trend of slightly more technical language, that was slightly more urgent in tone (e.g., \"help\", \"time\", \"work\"). Technical or technical-adjacent terminology makes up a large part of this list too - words like \"mix\", \"interface\", \"studio\", and even \"room\" in this case, as engineers often talk about \"tuning a room\" for an acoustically optimized monitoring environment."
   ]
  },
  {
   "cell_type": "markdown",
   "metadata": {},
   "source": [
    "---"
   ]
  },
  {
   "cell_type": "markdown",
   "metadata": {},
   "source": [
    "### Senitment Analysis: Audio Engineering"
   ]
  },
  {
   "cell_type": "code",
   "execution_count": 14,
   "metadata": {},
   "outputs": [],
   "source": [
    "# Instantiating a Sentiment Intensity Analyzer.\n",
    "sent = SentimentIntensityAnalyzer()"
   ]
  },
  {
   "cell_type": "code",
   "execution_count": 15,
   "metadata": {},
   "outputs": [],
   "source": [
    "posts = audio_df['full_post'].tolist()"
   ]
  },
  {
   "cell_type": "code",
   "execution_count": 16,
   "metadata": {},
   "outputs": [],
   "source": [
    "# I worked on this function with Jessica B!\n",
    "# Defining a function to analyze the sentiment of each post based on the VADER lexicon.\n",
    "def sent_analysis(posts):\n",
    "    # Creating an empty list to hold my compound scores.\n",
    "    p_comps = []\n",
    "    # Iterating through the posts in my dataframe.\n",
    "    for post in posts:\n",
    "        # Getting the individual polarity scores of each post.\n",
    "        p_sent = sent.polarity_scores(post)\n",
    "        # Appending just the compound sentiment score to my 'p_comps' list.\n",
    "        p_comps.append(p_sent['compound'])\n",
    "    return p_comps"
   ]
  },
  {
   "cell_type": "code",
   "execution_count": 17,
   "metadata": {},
   "outputs": [],
   "source": [
    "# Setting the results of the above function equal to the variable 'compounds'.\n",
    "audio_compounds = sent_analysis(posts)"
   ]
  },
  {
   "cell_type": "code",
   "execution_count": 18,
   "metadata": {},
   "outputs": [
    {
     "data": {
      "text/plain": [
       "0.4877059554973825"
      ]
     },
     "execution_count": 18,
     "metadata": {},
     "output_type": "execute_result"
    }
   ],
   "source": [
    "# Mean compound polarity score for Audio Engineering subreddit.\n",
    "sum(audio_compounds) / len(audio_compounds)"
   ]
  },
  {
   "cell_type": "markdown",
   "metadata": {},
   "source": [
    "**Compound Polarity Score:** The Compound Polarity Score generated by the `SentimentIntensityAnalyzer` is a rough judge of positivity and negativity in a text token, ranging from $-1$ (very negative) to $+1$ (very positive). The mean polarity score I see above of 0.488 implies that the Audio Engineering Subreddit's contributors tend to skew positive with the content they share!"
   ]
  },
  {
   "cell_type": "markdown",
   "metadata": {},
   "source": [
    "---"
   ]
  },
  {
   "cell_type": "markdown",
   "metadata": {},
   "source": [
    "---\n",
    "## Section 3: Songwriting EDA\n",
    "---"
   ]
  },
  {
   "cell_type": "code",
   "execution_count": 19,
   "metadata": {},
   "outputs": [
    {
     "data": {
      "text/html": [
       "<div>\n",
       "<style scoped>\n",
       "    .dataframe tbody tr th:only-of-type {\n",
       "        vertical-align: middle;\n",
       "    }\n",
       "\n",
       "    .dataframe tbody tr th {\n",
       "        vertical-align: top;\n",
       "    }\n",
       "\n",
       "    .dataframe thead th {\n",
       "        text-align: right;\n",
       "    }\n",
       "</style>\n",
       "<table border=\"1\" class=\"dataframe\">\n",
       "  <thead>\n",
       "    <tr style=\"text-align: right;\">\n",
       "      <th></th>\n",
       "      <th>subreddit</th>\n",
       "      <th>author</th>\n",
       "      <th>title</th>\n",
       "      <th>selftext</th>\n",
       "      <th>full_post</th>\n",
       "    </tr>\n",
       "  </thead>\n",
       "  <tbody>\n",
       "    <tr>\n",
       "      <th>0</th>\n",
       "      <td>Songwriting</td>\n",
       "      <td>3rrr6</td>\n",
       "      <td>A \"melody first, lyrics last\" songwriting proc...</td>\n",
       "      <td>1. Find a key, tempo, and time signature you l...</td>\n",
       "      <td>A \"melody first, lyrics last\" songwriting proc...</td>\n",
       "    </tr>\n",
       "    <tr>\n",
       "      <th>1</th>\n",
       "      <td>Songwriting</td>\n",
       "      <td>PjoSuperFan1</td>\n",
       "      <td>Teen Music Makers Discord</td>\n",
       "      <td>\\nI’m looking for new teen members (ages 13-19...</td>\n",
       "      <td>Teen Music Makers Discord \\nI’m looking for ne...</td>\n",
       "    </tr>\n",
       "  </tbody>\n",
       "</table>\n",
       "</div>"
      ],
      "text/plain": [
       "     subreddit        author  \\\n",
       "0  Songwriting         3rrr6   \n",
       "1  Songwriting  PjoSuperFan1   \n",
       "\n",
       "                                               title  \\\n",
       "0  A \"melody first, lyrics last\" songwriting proc...   \n",
       "1                          Teen Music Makers Discord   \n",
       "\n",
       "                                            selftext  \\\n",
       "0  1. Find a key, tempo, and time signature you l...   \n",
       "1  \\nI’m looking for new teen members (ages 13-19...   \n",
       "\n",
       "                                           full_post  \n",
       "0  A \"melody first, lyrics last\" songwriting proc...  \n",
       "1  Teen Music Makers Discord \\nI’m looking for ne...  "
      ]
     },
     "execution_count": 19,
     "metadata": {},
     "output_type": "execute_result"
    }
   ],
   "source": [
    "# Importing Songwriting dataframe.\n",
    "song_df = pd.read_csv('../data/songwriting_subreddit_01.csv')\n",
    "song_df.head(2)"
   ]
  },
  {
   "cell_type": "code",
   "execution_count": 20,
   "metadata": {},
   "outputs": [
    {
     "data": {
      "text/html": [
       "<div>\n",
       "<style scoped>\n",
       "    .dataframe tbody tr th:only-of-type {\n",
       "        vertical-align: middle;\n",
       "    }\n",
       "\n",
       "    .dataframe tbody tr th {\n",
       "        vertical-align: top;\n",
       "    }\n",
       "\n",
       "    .dataframe thead th {\n",
       "        text-align: right;\n",
       "    }\n",
       "</style>\n",
       "<table border=\"1\" class=\"dataframe\">\n",
       "  <thead>\n",
       "    <tr style=\"text-align: right;\">\n",
       "      <th></th>\n",
       "      <th>subreddit</th>\n",
       "      <th>full_post</th>\n",
       "    </tr>\n",
       "  </thead>\n",
       "  <tbody>\n",
       "    <tr>\n",
       "      <th>0</th>\n",
       "      <td>Songwriting</td>\n",
       "      <td>A \"melody first, lyrics last\" songwriting proc...</td>\n",
       "    </tr>\n",
       "    <tr>\n",
       "      <th>1</th>\n",
       "      <td>Songwriting</td>\n",
       "      <td>Teen Music Makers Discord \\nI’m looking for ne...</td>\n",
       "    </tr>\n",
       "  </tbody>\n",
       "</table>\n",
       "</div>"
      ],
      "text/plain": [
       "     subreddit                                          full_post\n",
       "0  Songwriting  A \"melody first, lyrics last\" songwriting proc...\n",
       "1  Songwriting  Teen Music Makers Discord \\nI’m looking for ne..."
      ]
     },
     "execution_count": 20,
     "metadata": {},
     "output_type": "execute_result"
    }
   ],
   "source": [
    "song_df = song_df.drop(columns = ['author', 'title', 'selftext'])\n",
    "song_df.head(2)"
   ]
  },
  {
   "cell_type": "markdown",
   "metadata": {},
   "source": [
    "**BELOW:** Instantiating and fitting a CountVectorizer instance to explore my data further. With guidance from Lesson 5.04."
   ]
  },
  {
   "cell_type": "code",
   "execution_count": 21,
   "metadata": {},
   "outputs": [],
   "source": [
    "cvec = CountVectorizer()\n",
    "X = song_df['full_post']\n",
    "cvec.fit(X)\n",
    "X_trans = cvec.transform(X)"
   ]
  },
  {
   "cell_type": "code",
   "execution_count": 22,
   "metadata": {},
   "outputs": [
    {
     "data": {
      "text/plain": [
       "['00',\n",
       " '000',\n",
       " '0003ffd1fc09',\n",
       " '00am',\n",
       " '01',\n",
       " '01suad11bco51',\n",
       " '02',\n",
       " '032',\n",
       " '04',\n",
       " '05']"
      ]
     },
     "execution_count": 22,
     "metadata": {},
     "output_type": "execute_result"
    }
   ],
   "source": [
    "cvec.get_feature_names()[0:10]"
   ]
  },
  {
   "cell_type": "code",
   "execution_count": 23,
   "metadata": {},
   "outputs": [
    {
     "data": {
      "text/plain": [
       "(4709, 16552)"
      ]
     },
     "execution_count": 23,
     "metadata": {},
     "output_type": "execute_result"
    }
   ],
   "source": [
    "X_trans.shape"
   ]
  },
  {
   "cell_type": "code",
   "execution_count": 24,
   "metadata": {},
   "outputs": [
    {
     "data": {
      "image/png": "[encoded data removed]",
      "text/plain": [
       "<Figure size 936x648 with 1 Axes>"
      ]
     },
     "metadata": {
      "needs_background": "light"
     },
     "output_type": "display_data"
    }
   ],
   "source": [
    "# Saving my training data to a dataframe using the pandas method 'todense()', and setting columns as my tokens from the cvec model.\n",
    "X_df = pd.DataFrame(X_trans.todense(), columns = cvec.get_feature_names())\n",
    "\n",
    "# Plotting most frequently occurring words in a bar chart.\n",
    "plt.figure(figsize = (13, 9))\n",
    "X_df.sum().sort_values(ascending = False).head(20).plot(kind = 'barh')\n",
    "plt.xlabel('Count', size = 17)\n",
    "plt.ylabel('Token', size = 17)\n",
    "plt.title('Songwriting: Top Tokens without Stop Words', size = 20);"
   ]
  },
  {
   "cell_type": "markdown",
   "metadata": {},
   "source": [
    "---"
   ]
  },
  {
   "cell_type": "code",
   "execution_count": 25,
   "metadata": {},
   "outputs": [],
   "source": [
    "# Looking at most frequently occurring words with stop words set to English.\n",
    "cvec2 = CountVectorizer(stop_words = 'english')\n",
    "X2 = song_df['full_post']\n",
    "cvec2.fit(X)\n",
    "X_trans2 = cvec2.transform(X)"
   ]
  },
  {
   "cell_type": "code",
   "execution_count": 26,
   "metadata": {},
   "outputs": [
    {
     "data": {
      "image/png": "[encoded data removed]",
      "text/plain": [
       "<Figure size 936x648 with 1 Axes>"
      ]
     },
     "metadata": {
      "needs_background": "light"
     },
     "output_type": "display_data"
    }
   ],
   "source": [
    "# Saving my training data to a dataframe using the pandas method 'todense()', and setting columns as my tokens from the cvec model.\n",
    "X2_df = pd.DataFrame(X_trans2.todense(), columns = cvec2.get_feature_names())\n",
    "\n",
    "# Plotting most frequently occurring words in a bar chart.\n",
    "plt.figure(figsize = (13, 9))\n",
    "X2_df.sum().sort_values(ascending = False).head(20).plot(kind = 'barh')\n",
    "plt.xlabel('Count', size = 17)\n",
    "plt.ylabel('Token', size = 17)\n",
    "plt.title('Songwriting: Top Tokens with English Stop Words', size = 20);"
   ]
  },
  {
   "cell_type": "markdown",
   "metadata": {},
   "source": [
    "---"
   ]
  },
  {
   "cell_type": "code",
   "execution_count": 27,
   "metadata": {},
   "outputs": [],
   "source": [
    "# Looking at most frequently occurring words with stop words set to my custom list.\n",
    "cvec3 = CountVectorizer(stop_words = stops)\n",
    "X3 = song_df['full_post']\n",
    "cvec3.fit(X)\n",
    "X_trans3 = cvec3.transform(X)"
   ]
  },
  {
   "cell_type": "code",
   "execution_count": 28,
   "metadata": {},
   "outputs": [
    {
     "data": {
      "image/png": "[encoded data removed]",
      "text/plain": [
       "<Figure size 936x648 with 1 Axes>"
      ]
     },
     "metadata": {
      "needs_background": "light"
     },
     "output_type": "display_data"
    }
   ],
   "source": [
    "# Saving my training data to a dataframe using the pandas method 'todense()', and setting columns as my tokens from the cvec model.\n",
    "X3_df = pd.DataFrame(X_trans3.todense(), columns = cvec3.get_feature_names())\n",
    "\n",
    "# Plotting most frequently occurring words in a bar chart.\n",
    "plt.figure(figsize = (13, 9))\n",
    "X3_df.sum().sort_values(ascending = False).head(20).plot(kind = 'barh')\n",
    "plt.xlabel('Count', size = 17)\n",
    "plt.ylabel('Token', size = 17)\n",
    "plt.title('Songwriting: Top Tokens with Custom Stop Words', size = 20);"
   ]
  },
  {
   "cell_type": "markdown",
   "metadata": {},
   "source": [
    "After using my custom stop words to filter out most common words in Songwriting, I noticed a trend of softer, emotionally supportive language, with words like \"love\", \"life\", \"people\", and \"feedback\" showing up in my top tokens. Other than that, the most commonly occurring words are expected for the topic at hand: \"write\", \"lyrics\", \"chorus\", \"verse\", \"guitar\" etc."
   ]
  },
  {
   "cell_type": "markdown",
   "metadata": {},
   "source": [
    "---"
   ]
  },
  {
   "cell_type": "markdown",
   "metadata": {},
   "source": [
    "### Senitment Analysis: Songwriting"
   ]
  },
  {
   "cell_type": "code",
   "execution_count": 29,
   "metadata": {},
   "outputs": [],
   "source": [
    "# Instantiating a Sentiment Intensity Analyzer.\n",
    "sent = SentimentIntensityAnalyzer()"
   ]
  },
  {
   "cell_type": "code",
   "execution_count": 30,
   "metadata": {},
   "outputs": [],
   "source": [
    "song_posts = song_df['full_post'].tolist()"
   ]
  },
  {
   "cell_type": "code",
   "execution_count": 31,
   "metadata": {},
   "outputs": [],
   "source": [
    "# Reusing the sentiment analysis function from the Audio Engineering section.\n",
    "song_compounds = sent_analysis(song_posts)"
   ]
  },
  {
   "cell_type": "code",
   "execution_count": 32,
   "metadata": {},
   "outputs": [
    {
     "data": {
      "text/plain": [
       "0.32749571034189845"
      ]
     },
     "execution_count": 32,
     "metadata": {},
     "output_type": "execute_result"
    }
   ],
   "source": [
    "# Mean compound polarity score for Audio Engineering subreddit.\n",
    "sum(song_compounds) / len(song_compounds)"
   ]
  },
  {
   "cell_type": "markdown",
   "metadata": {},
   "source": [
    "**Compound Polarity Score:** The mean polarity score I see above of 0.327 implies that the Songwriting Subreddit's contributors tend to skew positive with the content they share as well, but not quite as positive as the Audio Engineering user base. That notwithstanding, both scores suggest that these are positive communities!"
   ]
  }
 ],
 "metadata": {
  "kernelspec": {
   "display_name": "Python 3",
   "language": "python",
   "name": "python3"
  },
  "language_info": {
   "codemirror_mode": {
    "name": "ipython",
    "version": 3
   },
   "file_extension": ".py",
   "mimetype": "text/x-python",
   "name": "python",
   "nbconvert_exporter": "python",
   "pygments_lexer": "ipython3",
   "version": "3.7.9"
  }
 },
 "nbformat": 4,
 "nbformat_minor": 4
}
