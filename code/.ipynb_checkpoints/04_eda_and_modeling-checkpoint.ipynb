{
 "cells": [
  {
   "cell_type": "markdown",
   "metadata": {},
   "source": [
    "<img src=\"http://imgur.com/1ZcRyrc.png\" style=\"float: left; margin: 20px; height: 55px\">\n",
    "\n",
    "# Project 3: Notebook 4\n",
    "## Modeling"
   ]
  },
  {
   "cell_type": "markdown",
   "metadata": {},
   "source": [
    "---\n",
    "## Section 1: Imports\n",
    "\n",
    "---"
   ]
  },
  {
   "cell_type": "markdown",
   "metadata": {},
   "source": [
    "**BELOW:** Importing Python libraries for processing and modeling my Subreddits."
   ]
  },
  {
   "cell_type": "code",
   "execution_count": 1,
   "metadata": {},
   "outputs": [],
   "source": [
    "# The basics\n",
    "import numpy as np\n",
    "import pandas as pd\n",
    "import matplotlib.pyplot as plt\n",
    "import seaborn as sns\n",
    "\n",
    "# Pipeline and Gridsearch imports.\n",
    "from sklearn.model_selection import GridSearchCV, train_test_split, cross_val_score\n",
    "from sklearn.pipeline import Pipeline\n",
    "\n",
    "# Estimator imports\n",
    "from sklearn.naive_bayes import MultinomialNB\n",
    "from sklearn.linear_model import LogisticRegression\n",
    "from sklearn.metrics import confusion_matrix, plot_confusion_matrix\n",
    "from sklearn.ensemble import RandomForestClassifier, ExtraTreesClassifier\n",
    "\n",
    "# Token processing imports\n",
    "from sklearn.feature_extraction.text import CountVectorizer, TfidfVectorizer"
   ]
  },
  {
   "cell_type": "markdown",
   "metadata": {},
   "source": [
    "**BELOW:** Pulling in the cleaned CSVs of each Subreddit generated in the first two notebooks."
   ]
  },
  {
   "cell_type": "code",
   "execution_count": 2,
   "metadata": {},
   "outputs": [],
   "source": [
    "audio_df = pd.read_csv('../data/audioengineering_subreddit_01.csv')\n",
    "song_df = pd.read_csv('../data/songwriting_subreddit_01.csv')"
   ]
  },
  {
   "cell_type": "code",
   "execution_count": 3,
   "metadata": {},
   "outputs": [
    {
     "data": {
      "text/html": [
       "<div>\n",
       "<style scoped>\n",
       "    .dataframe tbody tr th:only-of-type {\n",
       "        vertical-align: middle;\n",
       "    }\n",
       "\n",
       "    .dataframe tbody tr th {\n",
       "        vertical-align: top;\n",
       "    }\n",
       "\n",
       "    .dataframe thead th {\n",
       "        text-align: right;\n",
       "    }\n",
       "</style>\n",
       "<table border=\"1\" class=\"dataframe\">\n",
       "  <thead>\n",
       "    <tr style=\"text-align: right;\">\n",
       "      <th></th>\n",
       "      <th>subreddit</th>\n",
       "      <th>author</th>\n",
       "      <th>title</th>\n",
       "      <th>selftext</th>\n",
       "      <th>full_post</th>\n",
       "    </tr>\n",
       "  </thead>\n",
       "  <tbody>\n",
       "    <tr>\n",
       "      <th>0</th>\n",
       "      <td>audioengineering</td>\n",
       "      <td>Tuniac</td>\n",
       "      <td>Help Identifying a Mic</td>\n",
       "      <td>[https://www.youtube.com/watch?v=Gr9mOTKQELE&amp;a...</td>\n",
       "      <td>Help Identifying a Mic [https://www.youtube.co...</td>\n",
       "    </tr>\n",
       "    <tr>\n",
       "      <th>1</th>\n",
       "      <td>audioengineering</td>\n",
       "      <td>out-of-the-ordinary</td>\n",
       "      <td>Import eq filters to t.racks dsp 4x4 mini from...</td>\n",
       "      <td>Hello dear people of the internet,\\n\\n&amp;amp;#x2...</td>\n",
       "      <td>Import eq filters to t.racks dsp 4x4 mini from...</td>\n",
       "    </tr>\n",
       "  </tbody>\n",
       "</table>\n",
       "</div>"
      ],
      "text/plain": [
       "          subreddit               author  \\\n",
       "0  audioengineering               Tuniac   \n",
       "1  audioengineering  out-of-the-ordinary   \n",
       "\n",
       "                                               title  \\\n",
       "0                             Help Identifying a Mic   \n",
       "1  Import eq filters to t.racks dsp 4x4 mini from...   \n",
       "\n",
       "                                            selftext  \\\n",
       "0  [https://www.youtube.com/watch?v=Gr9mOTKQELE&a...   \n",
       "1  Hello dear people of the internet,\\n\\n&amp;#x2...   \n",
       "\n",
       "                                           full_post  \n",
       "0  Help Identifying a Mic [https://www.youtube.co...  \n",
       "1  Import eq filters to t.racks dsp 4x4 mini from...  "
      ]
     },
     "execution_count": 3,
     "metadata": {},
     "output_type": "execute_result"
    }
   ],
   "source": [
    "audio_df.head(2)"
   ]
  },
  {
   "cell_type": "code",
   "execution_count": 4,
   "metadata": {},
   "outputs": [
    {
     "data": {
      "text/plain": [
       "subreddit      0\n",
       "author         0\n",
       "title          0\n",
       "selftext     173\n",
       "full_post      0\n",
       "dtype: int64"
      ]
     },
     "execution_count": 4,
     "metadata": {},
     "output_type": "execute_result"
    }
   ],
   "source": [
    "audio_df.isnull().sum()"
   ]
  },
  {
   "cell_type": "code",
   "execution_count": 5,
   "metadata": {},
   "outputs": [
    {
     "data": {
      "text/html": [
       "<div>\n",
       "<style scoped>\n",
       "    .dataframe tbody tr th:only-of-type {\n",
       "        vertical-align: middle;\n",
       "    }\n",
       "\n",
       "    .dataframe tbody tr th {\n",
       "        vertical-align: top;\n",
       "    }\n",
       "\n",
       "    .dataframe thead th {\n",
       "        text-align: right;\n",
       "    }\n",
       "</style>\n",
       "<table border=\"1\" class=\"dataframe\">\n",
       "  <thead>\n",
       "    <tr style=\"text-align: right;\">\n",
       "      <th></th>\n",
       "      <th>subreddit</th>\n",
       "      <th>author</th>\n",
       "      <th>title</th>\n",
       "      <th>selftext</th>\n",
       "      <th>full_post</th>\n",
       "    </tr>\n",
       "  </thead>\n",
       "  <tbody>\n",
       "    <tr>\n",
       "      <th>0</th>\n",
       "      <td>Songwriting</td>\n",
       "      <td>3rrr6</td>\n",
       "      <td>A \"melody first, lyrics last\" songwriting proc...</td>\n",
       "      <td>1. Find a key, tempo, and time signature you l...</td>\n",
       "      <td>A \"melody first, lyrics last\" songwriting proc...</td>\n",
       "    </tr>\n",
       "    <tr>\n",
       "      <th>1</th>\n",
       "      <td>Songwriting</td>\n",
       "      <td>PjoSuperFan1</td>\n",
       "      <td>Teen Music Makers Discord</td>\n",
       "      <td>\\nI’m looking for new teen members (ages 13-19...</td>\n",
       "      <td>Teen Music Makers Discord \\nI’m looking for ne...</td>\n",
       "    </tr>\n",
       "  </tbody>\n",
       "</table>\n",
       "</div>"
      ],
      "text/plain": [
       "     subreddit        author  \\\n",
       "0  Songwriting         3rrr6   \n",
       "1  Songwriting  PjoSuperFan1   \n",
       "\n",
       "                                               title  \\\n",
       "0  A \"melody first, lyrics last\" songwriting proc...   \n",
       "1                          Teen Music Makers Discord   \n",
       "\n",
       "                                            selftext  \\\n",
       "0  1. Find a key, tempo, and time signature you l...   \n",
       "1  \\nI’m looking for new teen members (ages 13-19...   \n",
       "\n",
       "                                           full_post  \n",
       "0  A \"melody first, lyrics last\" songwriting proc...  \n",
       "1  Teen Music Makers Discord \\nI’m looking for ne...  "
      ]
     },
     "execution_count": 5,
     "metadata": {},
     "output_type": "execute_result"
    }
   ],
   "source": [
    "song_df.head(2)"
   ]
  },
  {
   "cell_type": "code",
   "execution_count": 6,
   "metadata": {},
   "outputs": [
    {
     "data": {
      "text/plain": [
       "subreddit       0\n",
       "author          0\n",
       "title           0\n",
       "selftext     2419\n",
       "full_post       0\n",
       "dtype: int64"
      ]
     },
     "execution_count": 6,
     "metadata": {},
     "output_type": "execute_result"
    }
   ],
   "source": [
    "song_df.isnull().sum()"
   ]
  },
  {
   "cell_type": "markdown",
   "metadata": {},
   "source": [
    "**NOTE:** I'm deciding to leave all nulls in the `selftext` column in place for now, as they simply render as spaces in the `full_post` column, and so, shouldn't affect my model. Since I'll be training my models on the full posts, I'll ultimately drop the `title`, `selftext`, and `author` columns anyway. I felt, however, that having these dataframes saved in their current format is best, in case I need to go back and do more unforeseen cleaning to improve my model."
   ]
  },
  {
   "cell_type": "code",
   "execution_count": 7,
   "metadata": {},
   "outputs": [
    {
     "data": {
      "text/plain": [
       "'Hey!! Wrote this one a couple of months ago and I really want to know what yall think!! 🖤 (It’s called loading...) '"
      ]
     },
     "execution_count": 7,
     "metadata": {},
     "output_type": "execute_result"
    }
   ],
   "source": [
    "# Demonstrating that a null in 'selftext' is just represented by a space character in 'full_post'.\n",
    "song_df['full_post'][4]"
   ]
  },
  {
   "cell_type": "markdown",
   "metadata": {},
   "source": [
    "---\n",
    "## Section 2: Merging & Final Cleaning\n",
    "\n",
    "---"
   ]
  },
  {
   "cell_type": "markdown",
   "metadata": {},
   "source": [
    "**In this section,** I'll be merging the two dataframes that contain the posts I pulled from each Subreddit, and dropping unnecessary columns from my resulting dataframe (anything that isn't text from the original post or the Subreddit from which the post came)."
   ]
  },
  {
   "cell_type": "code",
   "execution_count": 8,
   "metadata": {},
   "outputs": [
    {
     "name": "stdout",
     "output_type": "stream",
     "text": [
      "(4584, 5)\n",
      "(4709, 5)\n"
     ]
    }
   ],
   "source": [
    "print(audio_df.shape)\n",
    "print(song_df.shape)"
   ]
  },
  {
   "cell_type": "code",
   "execution_count": 9,
   "metadata": {},
   "outputs": [],
   "source": [
    "# Merging my two subreddit dataframes.\n",
    "subs_df = pd.concat([audio_df, song_df])"
   ]
  },
  {
   "cell_type": "markdown",
   "metadata": {},
   "source": [
    "**NOTE:** As mentioned earlier, I'm ignoring the nulls in the `selftext` column; once I get to my modeling stage, I'll only be using the `full_post` data and the Subreddit from which the post came."
   ]
  },
  {
   "cell_type": "code",
   "execution_count": 10,
   "metadata": {},
   "outputs": [
    {
     "data": {
      "text/plain": [
       "subreddit       0\n",
       "author          0\n",
       "title           0\n",
       "selftext     2592\n",
       "full_post       0\n",
       "dtype: int64"
      ]
     },
     "execution_count": 10,
     "metadata": {},
     "output_type": "execute_result"
    }
   ],
   "source": [
    "subs_df.isnull().sum()"
   ]
  },
  {
   "cell_type": "code",
   "execution_count": 11,
   "metadata": {},
   "outputs": [
    {
     "data": {
      "text/plain": [
       "(9293, 5)"
      ]
     },
     "execution_count": 11,
     "metadata": {},
     "output_type": "execute_result"
    }
   ],
   "source": [
    "subs_df.shape"
   ]
  },
  {
   "cell_type": "code",
   "execution_count": 12,
   "metadata": {},
   "outputs": [
    {
     "data": {
      "text/html": [
       "<div>\n",
       "<style scoped>\n",
       "    .dataframe tbody tr th:only-of-type {\n",
       "        vertical-align: middle;\n",
       "    }\n",
       "\n",
       "    .dataframe tbody tr th {\n",
       "        vertical-align: top;\n",
       "    }\n",
       "\n",
       "    .dataframe thead th {\n",
       "        text-align: right;\n",
       "    }\n",
       "</style>\n",
       "<table border=\"1\" class=\"dataframe\">\n",
       "  <thead>\n",
       "    <tr style=\"text-align: right;\">\n",
       "      <th></th>\n",
       "      <th>subreddit</th>\n",
       "      <th>author</th>\n",
       "      <th>title</th>\n",
       "      <th>selftext</th>\n",
       "      <th>full_post</th>\n",
       "    </tr>\n",
       "  </thead>\n",
       "  <tbody>\n",
       "    <tr>\n",
       "      <th>0</th>\n",
       "      <td>audioengineering</td>\n",
       "      <td>Tuniac</td>\n",
       "      <td>Help Identifying a Mic</td>\n",
       "      <td>[https://www.youtube.com/watch?v=Gr9mOTKQELE&amp;a...</td>\n",
       "      <td>Help Identifying a Mic [https://www.youtube.co...</td>\n",
       "    </tr>\n",
       "    <tr>\n",
       "      <th>1</th>\n",
       "      <td>audioengineering</td>\n",
       "      <td>out-of-the-ordinary</td>\n",
       "      <td>Import eq filters to t.racks dsp 4x4 mini from...</td>\n",
       "      <td>Hello dear people of the internet,\\n\\n&amp;amp;#x2...</td>\n",
       "      <td>Import eq filters to t.racks dsp 4x4 mini from...</td>\n",
       "    </tr>\n",
       "    <tr>\n",
       "      <th>2</th>\n",
       "      <td>audioengineering</td>\n",
       "      <td>ChristopherEv</td>\n",
       "      <td>Could I theoretically split a male 3.5mm into ...</td>\n",
       "      <td>Basically I have a headset with microphone and...</td>\n",
       "      <td>Could I theoretically split a male 3.5mm into ...</td>\n",
       "    </tr>\n",
       "  </tbody>\n",
       "</table>\n",
       "</div>"
      ],
      "text/plain": [
       "          subreddit               author  \\\n",
       "0  audioengineering               Tuniac   \n",
       "1  audioengineering  out-of-the-ordinary   \n",
       "2  audioengineering        ChristopherEv   \n",
       "\n",
       "                                               title  \\\n",
       "0                             Help Identifying a Mic   \n",
       "1  Import eq filters to t.racks dsp 4x4 mini from...   \n",
       "2  Could I theoretically split a male 3.5mm into ...   \n",
       "\n",
       "                                            selftext  \\\n",
       "0  [https://www.youtube.com/watch?v=Gr9mOTKQELE&a...   \n",
       "1  Hello dear people of the internet,\\n\\n&amp;#x2...   \n",
       "2  Basically I have a headset with microphone and...   \n",
       "\n",
       "                                           full_post  \n",
       "0  Help Identifying a Mic [https://www.youtube.co...  \n",
       "1  Import eq filters to t.racks dsp 4x4 mini from...  \n",
       "2  Could I theoretically split a male 3.5mm into ...  "
      ]
     },
     "execution_count": 12,
     "metadata": {},
     "output_type": "execute_result"
    }
   ],
   "source": [
    "subs_df.head(3)"
   ]
  },
  {
   "cell_type": "code",
   "execution_count": 13,
   "metadata": {},
   "outputs": [],
   "source": [
    "# Resetting the index on my new merged dataframe so it doesn't restart once we get to the songwriting entries.\n",
    "subs_df.reset_index(inplace = True)"
   ]
  },
  {
   "cell_type": "code",
   "execution_count": 14,
   "metadata": {},
   "outputs": [
    {
     "data": {
      "text/plain": [
       "(9293, 6)"
      ]
     },
     "execution_count": 14,
     "metadata": {},
     "output_type": "execute_result"
    }
   ],
   "source": [
    "subs_df.shape"
   ]
  },
  {
   "cell_type": "code",
   "execution_count": 15,
   "metadata": {},
   "outputs": [
    {
     "data": {
      "text/html": [
       "<div>\n",
       "<style scoped>\n",
       "    .dataframe tbody tr th:only-of-type {\n",
       "        vertical-align: middle;\n",
       "    }\n",
       "\n",
       "    .dataframe tbody tr th {\n",
       "        vertical-align: top;\n",
       "    }\n",
       "\n",
       "    .dataframe thead th {\n",
       "        text-align: right;\n",
       "    }\n",
       "</style>\n",
       "<table border=\"1\" class=\"dataframe\">\n",
       "  <thead>\n",
       "    <tr style=\"text-align: right;\">\n",
       "      <th></th>\n",
       "      <th>index</th>\n",
       "      <th>subreddit</th>\n",
       "      <th>author</th>\n",
       "      <th>title</th>\n",
       "      <th>selftext</th>\n",
       "      <th>full_post</th>\n",
       "    </tr>\n",
       "  </thead>\n",
       "  <tbody>\n",
       "    <tr>\n",
       "      <th>9290</th>\n",
       "      <td>4706</td>\n",
       "      <td>Songwriting</td>\n",
       "      <td>musformation</td>\n",
       "      <td>How Pain In Your Life Affects The Songs You Make</td>\n",
       "      <td>NaN</td>\n",
       "      <td>How Pain In Your Life Affects The Songs You Make</td>\n",
       "    </tr>\n",
       "    <tr>\n",
       "      <th>9291</th>\n",
       "      <td>4707</td>\n",
       "      <td>Songwriting</td>\n",
       "      <td>alexgotdajuice</td>\n",
       "      <td>New to this sub and need feedback</td>\n",
       "      <td>New to this sub and this would be my very firs...</td>\n",
       "      <td>New to this sub and need feedback New to this ...</td>\n",
       "    </tr>\n",
       "    <tr>\n",
       "      <th>9292</th>\n",
       "      <td>4708</td>\n",
       "      <td>Songwriting</td>\n",
       "      <td>alexgotdajuice</td>\n",
       "      <td>New to this sub and need feedback</td>\n",
       "      <td>New to this sub and this would be my very firs...</td>\n",
       "      <td>New to this sub and need feedback New to this ...</td>\n",
       "    </tr>\n",
       "  </tbody>\n",
       "</table>\n",
       "</div>"
      ],
      "text/plain": [
       "      index    subreddit          author  \\\n",
       "9290   4706  Songwriting    musformation   \n",
       "9291   4707  Songwriting  alexgotdajuice   \n",
       "9292   4708  Songwriting  alexgotdajuice   \n",
       "\n",
       "                                                 title  \\\n",
       "9290  How Pain In Your Life Affects The Songs You Make   \n",
       "9291                 New to this sub and need feedback   \n",
       "9292                 New to this sub and need feedback   \n",
       "\n",
       "                                               selftext  \\\n",
       "9290                                                NaN   \n",
       "9291  New to this sub and this would be my very firs...   \n",
       "9292  New to this sub and this would be my very firs...   \n",
       "\n",
       "                                              full_post  \n",
       "9290  How Pain In Your Life Affects The Songs You Make   \n",
       "9291  New to this sub and need feedback New to this ...  \n",
       "9292  New to this sub and need feedback New to this ...  "
      ]
     },
     "execution_count": 15,
     "metadata": {},
     "output_type": "execute_result"
    }
   ],
   "source": [
    "subs_df.tail(3)"
   ]
  },
  {
   "cell_type": "markdown",
   "metadata": {},
   "source": [
    "**NOTE:** It looks like re-indexing my dataframe created a new column for the old indices. In the following steps, I'll be removing the column containing the old indices, as well as the unneccessary \"title\" and \"selftext\" columns, as they're both contained in the \"full_post\" column. I'll also map values of 0 and 1 to my Audio Engineering and Songwriting subreddits, respectively, for easier classification."
   ]
  },
  {
   "cell_type": "code",
   "execution_count": 16,
   "metadata": {},
   "outputs": [],
   "source": [
    "# Mapping a value of 0 to the Audio Engineering subreddit, and 1 to the Songwriting subreddit, for easier classification.\n",
    "subs_df['subreddit'] = subs_df['subreddit'].map({'audioengineering': 0, 'Songwriting': 1})"
   ]
  },
  {
   "cell_type": "code",
   "execution_count": 17,
   "metadata": {},
   "outputs": [],
   "source": [
    "subs_df = subs_df[['subreddit', 'full_post']]"
   ]
  },
  {
   "cell_type": "code",
   "execution_count": 18,
   "metadata": {},
   "outputs": [
    {
     "data": {
      "text/html": [
       "<div>\n",
       "<style scoped>\n",
       "    .dataframe tbody tr th:only-of-type {\n",
       "        vertical-align: middle;\n",
       "    }\n",
       "\n",
       "    .dataframe tbody tr th {\n",
       "        vertical-align: top;\n",
       "    }\n",
       "\n",
       "    .dataframe thead th {\n",
       "        text-align: right;\n",
       "    }\n",
       "</style>\n",
       "<table border=\"1\" class=\"dataframe\">\n",
       "  <thead>\n",
       "    <tr style=\"text-align: right;\">\n",
       "      <th></th>\n",
       "      <th>subreddit</th>\n",
       "      <th>full_post</th>\n",
       "    </tr>\n",
       "  </thead>\n",
       "  <tbody>\n",
       "    <tr>\n",
       "      <th>0</th>\n",
       "      <td>0</td>\n",
       "      <td>Help Identifying a Mic [https://www.youtube.co...</td>\n",
       "    </tr>\n",
       "    <tr>\n",
       "      <th>1</th>\n",
       "      <td>0</td>\n",
       "      <td>Import eq filters to t.racks dsp 4x4 mini from...</td>\n",
       "    </tr>\n",
       "    <tr>\n",
       "      <th>2</th>\n",
       "      <td>0</td>\n",
       "      <td>Could I theoretically split a male 3.5mm into ...</td>\n",
       "    </tr>\n",
       "  </tbody>\n",
       "</table>\n",
       "</div>"
      ],
      "text/plain": [
       "   subreddit                                          full_post\n",
       "0          0  Help Identifying a Mic [https://www.youtube.co...\n",
       "1          0  Import eq filters to t.racks dsp 4x4 mini from...\n",
       "2          0  Could I theoretically split a male 3.5mm into ..."
      ]
     },
     "execution_count": 18,
     "metadata": {},
     "output_type": "execute_result"
    }
   ],
   "source": [
    "subs_df.head(3)"
   ]
  },
  {
   "cell_type": "code",
   "execution_count": 19,
   "metadata": {},
   "outputs": [
    {
     "data": {
      "text/plain": [
       "subreddit    0\n",
       "full_post    0\n",
       "dtype: int64"
      ]
     },
     "execution_count": 19,
     "metadata": {},
     "output_type": "execute_result"
    }
   ],
   "source": [
    "# No nulls - all nulls (or empty spaces) \n",
    "subs_df.isnull().sum()"
   ]
  },
  {
   "cell_type": "code",
   "execution_count": 20,
   "metadata": {},
   "outputs": [
    {
     "data": {
      "text/plain": [
       "1    4709\n",
       "0    4584\n",
       "Name: subreddit, dtype: int64"
      ]
     },
     "execution_count": 20,
     "metadata": {},
     "output_type": "execute_result"
    }
   ],
   "source": [
    "# Looking at the distribution of entries by subreddit - very similar.\n",
    "# This means I shouldn't need to stratify in my train-test-split.\n",
    "subs_df['subreddit'].value_counts()"
   ]
  },
  {
   "cell_type": "markdown",
   "metadata": {},
   "source": [
    "---"
   ]
  },
  {
   "cell_type": "code",
   "execution_count": 21,
   "metadata": {},
   "outputs": [],
   "source": [
    "# Saving my final cleaned, merged dataframe to a csv.\n",
    "subs_df.to_csv('../data/subs_df_01.csv', index = False)"
   ]
  },
  {
   "cell_type": "markdown",
   "metadata": {},
   "source": [
    "---\n",
    "---\n",
    "## Section 3: CountVectorizer & EDA\n",
    "\n",
    "---"
   ]
  },
  {
   "cell_type": "markdown",
   "metadata": {},
   "source": [
    "**NOTE:** I chose to save and re-import my clean `subs_df` dataframe here to ensure consistency in my models."
   ]
  },
  {
   "cell_type": "code",
   "execution_count": 22,
   "metadata": {},
   "outputs": [],
   "source": [
    "subs_df = pd.read_csv('../data/subs_df_01.csv')"
   ]
  },
  {
   "cell_type": "code",
   "execution_count": 23,
   "metadata": {},
   "outputs": [
    {
     "data": {
      "text/plain": [
       "(9293, 2)"
      ]
     },
     "execution_count": 23,
     "metadata": {},
     "output_type": "execute_result"
    }
   ],
   "source": [
    "subs_df.shape"
   ]
  },
  {
   "cell_type": "code",
   "execution_count": 24,
   "metadata": {},
   "outputs": [
    {
     "data": {
      "text/html": [
       "<div>\n",
       "<style scoped>\n",
       "    .dataframe tbody tr th:only-of-type {\n",
       "        vertical-align: middle;\n",
       "    }\n",
       "\n",
       "    .dataframe tbody tr th {\n",
       "        vertical-align: top;\n",
       "    }\n",
       "\n",
       "    .dataframe thead th {\n",
       "        text-align: right;\n",
       "    }\n",
       "</style>\n",
       "<table border=\"1\" class=\"dataframe\">\n",
       "  <thead>\n",
       "    <tr style=\"text-align: right;\">\n",
       "      <th></th>\n",
       "      <th>subreddit</th>\n",
       "      <th>full_post</th>\n",
       "    </tr>\n",
       "  </thead>\n",
       "  <tbody>\n",
       "    <tr>\n",
       "      <th>0</th>\n",
       "      <td>0</td>\n",
       "      <td>Help Identifying a Mic [https://www.youtube.co...</td>\n",
       "    </tr>\n",
       "    <tr>\n",
       "      <th>1</th>\n",
       "      <td>0</td>\n",
       "      <td>Import eq filters to t.racks dsp 4x4 mini from...</td>\n",
       "    </tr>\n",
       "  </tbody>\n",
       "</table>\n",
       "</div>"
      ],
      "text/plain": [
       "   subreddit                                          full_post\n",
       "0          0  Help Identifying a Mic [https://www.youtube.co...\n",
       "1          0  Import eq filters to t.racks dsp 4x4 mini from..."
      ]
     },
     "execution_count": 24,
     "metadata": {},
     "output_type": "execute_result"
    }
   ],
   "source": [
    "subs_df.head(2)"
   ]
  },
  {
   "cell_type": "code",
   "execution_count": 25,
   "metadata": {},
   "outputs": [
    {
     "data": {
      "text/plain": [
       "subreddit    0\n",
       "full_post    0\n",
       "dtype: int64"
      ]
     },
     "execution_count": 25,
     "metadata": {},
     "output_type": "execute_result"
    }
   ],
   "source": [
    "subs_df.isnull().sum()"
   ]
  },
  {
   "cell_type": "code",
   "execution_count": 26,
   "metadata": {},
   "outputs": [],
   "source": [
    "# Setting my X and y variables for a train-test-split\n",
    "X = subs_df['full_post']\n",
    "y = subs_df['subreddit']"
   ]
  },
  {
   "cell_type": "markdown",
   "metadata": {},
   "source": [
    "**NOTE:** The score of the majority class below, `1`, and its associated normalized value count, `0.506725`, constitutes the baseline accuracy. More on this in the modeling section."
   ]
  },
  {
   "cell_type": "code",
   "execution_count": 27,
   "metadata": {},
   "outputs": [
    {
     "data": {
      "text/plain": [
       "1    0.506725\n",
       "0    0.493275\n",
       "Name: subreddit, dtype: float64"
      ]
     },
     "execution_count": 27,
     "metadata": {},
     "output_type": "execute_result"
    }
   ],
   "source": [
    "# Checking the distribution of posts actoss both subreddits - they appear to be almost identical, so I shouldn't need to stratify in my TTS.\n",
    "y.value_counts(normalize = True)"
   ]
  },
  {
   "cell_type": "code",
   "execution_count": 28,
   "metadata": {},
   "outputs": [],
   "source": [
    "# Instantiating a train-test-split on my merged dataframe.\n",
    "X_train, X_test, y_train, y_test = train_test_split(X, y, test_size = 0.25, random_state = 42)"
   ]
  },
  {
   "cell_type": "markdown",
   "metadata": {},
   "source": [
    "**BELOW:** Instantiating and fitting a CountVectorizer instance to explore my data further. With guidance from Lesson 5.04."
   ]
  },
  {
   "cell_type": "code",
   "execution_count": 29,
   "metadata": {},
   "outputs": [],
   "source": [
    "# Instantiating a CountVectorizer and fitting/transforming to my X training data.\n",
    "# With guidance from lesson 5.04.\n",
    "cvec = CountVectorizer()\n",
    "cvec.fit(X_train)\n",
    "X_train_trans = cvec.transform(X_train)"
   ]
  },
  {
   "cell_type": "code",
   "execution_count": 30,
   "metadata": {},
   "outputs": [],
   "source": [
    "# Transforming my X testing data using CountVectorizer.\n",
    "X_test_trans = cvec.transform(X_test)"
   ]
  },
  {
   "cell_type": "code",
   "execution_count": 31,
   "metadata": {},
   "outputs": [
    {
     "name": "stdout",
     "output_type": "stream",
     "text": [
      "(6969,)\n",
      "(2324,)\n",
      "(6969, 23950)\n",
      "(2324, 23950)\n"
     ]
    }
   ],
   "source": [
    "print(X_train.shape)\n",
    "print(X_test.shape)\n",
    "print(X_train_trans.shape)\n",
    "print(X_test_trans.shape)"
   ]
  },
  {
   "cell_type": "markdown",
   "metadata": {},
   "source": [
    "---\n",
    "\n",
    "### Plotting Most Frequently Occurring Words Across Both Subreddits\n",
    "---"
   ]
  },
  {
   "cell_type": "markdown",
   "metadata": {},
   "source": [
    "**First:** All most frequently occurring words across both Subreddits. They're all very generic, widely-used words."
   ]
  },
  {
   "cell_type": "code",
   "execution_count": 32,
   "metadata": {},
   "outputs": [
    {
     "data": {
      "image/png": "[encoded data removed]",
      "text/plain": [
       "<Figure size 936x648 with 1 Axes>"
      ]
     },
     "metadata": {
      "needs_background": "light"
     },
     "output_type": "display_data"
    }
   ],
   "source": [
    "# Saving my training data to a dataframe using the pandas method 'todense()', and setting columns as my tokens from the cvec model.\n",
    "X_train_df = pd.DataFrame(X_train_trans.todense(), columns = cvec.get_feature_names())\n",
    "\n",
    "# Plotting most frequently occurring words in a bar chart.\n",
    "plt.figure(figsize = (13, 9))\n",
    "X_train_df.sum().sort_values(ascending = False).head(25).plot(kind = 'barh')\n",
    "plt.xlabel('Count', size = 17)\n",
    "plt.ylabel('Token', size = 17)\n",
    "plt.title('Combined Subreddits: Top Tokens without Stop Words', size = 20);"
   ]
  },
  {
   "cell_type": "markdown",
   "metadata": {},
   "source": [
    "---"
   ]
  },
  {
   "cell_type": "markdown",
   "metadata": {},
   "source": [
    "**Second:** Most frequently occurring words across both Subreddits, with English stop words removed."
   ]
  },
  {
   "cell_type": "code",
   "execution_count": 33,
   "metadata": {},
   "outputs": [],
   "source": [
    "# Instantiating a CountVectorizer with English stop words and fitting/transforming to my X training data.\n",
    "# With guidance from lesson 5.04.\n",
    "cvec2 = CountVectorizer(stop_words = 'english')\n",
    "cvec2.fit(X_train)\n",
    "X_train_trans2 = cvec2.transform(X_train)"
   ]
  },
  {
   "cell_type": "code",
   "execution_count": 34,
   "metadata": {},
   "outputs": [
    {
     "data": {
      "image/png": "[encoded data removed]",
      "text/plain": [
       "<Figure size 936x648 with 1 Axes>"
      ]
     },
     "metadata": {
      "needs_background": "light"
     },
     "output_type": "display_data"
    }
   ],
   "source": [
    "# Saving my training data to a dataframe using the pandas method 'todense()', and setting columns as my tokens from the cvec model.\n",
    "X_train_df2 = pd.DataFrame(X_train_trans2.todense(), columns = cvec2.get_feature_names())\n",
    "\n",
    "# Plotting most frequently occurring words in a bar chart, english stop words removed.\n",
    "plt.figure(figsize = (13, 9))\n",
    "X_train_df2.sum().sort_values(ascending = False).head(25).plot(kind = 'barh')\n",
    "plt.xlabel('Count', size = 17)\n",
    "plt.ylabel('Token', size = 17)\n",
    "plt.title('Combined Subreddits: Top Tokens with English Stop Words', size = 20);"
   ]
  },
  {
   "cell_type": "markdown",
   "metadata": {},
   "source": [
    "---"
   ]
  },
  {
   "cell_type": "markdown",
   "metadata": {},
   "source": [
    "**STOP WORDS:** Here, I'm defining a list of stop words, `my_stops`, to add to the default English stop words. I'll test my models with these, as well as the basic English stop words, and no stop words at all."
   ]
  },
  {
   "cell_type": "code",
   "execution_count": 35,
   "metadata": {},
   "outputs": [],
   "source": [
    "# Defining my own stop words, to be used in conjunction with the default English stop words.\n",
    "my_stops = ['ve', 'don', 'good', 'bad', 'https', 'com', 'www', 'll', 'just', 'want', 'new', 'like', 'does',\n",
    "            'feel', 'think', 'use', 'amp', 'x200b','let', 'got', 'know', 'really', 'way', 'song', 'songs', 'audio']"
   ]
  },
  {
   "cell_type": "code",
   "execution_count": 36,
   "metadata": {},
   "outputs": [],
   "source": [
    "# Combining my stop words list with the default sklearn English stop word list.\n",
    "# With guidance from this Kaggle post: https://www.kaggle.com/c/msk-redefining-cancer-treatment/discussion/37679\n",
    "from sklearn.feature_extraction import text\n",
    "stops = text.ENGLISH_STOP_WORDS.union(my_stops)"
   ]
  },
  {
   "cell_type": "markdown",
   "metadata": {},
   "source": [
    "---"
   ]
  },
  {
   "cell_type": "markdown",
   "metadata": {},
   "source": [
    "**Third:** Most frequently occurring words across both Subreddits, with English stop words removed, along with my list of stop words defined above."
   ]
  },
  {
   "cell_type": "code",
   "execution_count": 37,
   "metadata": {},
   "outputs": [],
   "source": [
    "# Instantiating a CountVectorizer with English stop words and fitting/transforming to my X training data.\n",
    "# With guidance from lesson 5.04.\n",
    "cvec3 = CountVectorizer(stop_words = stops)\n",
    "cvec3.fit(X_train)\n",
    "X_train_trans3 = cvec3.transform(X_train)"
   ]
  },
  {
   "cell_type": "code",
   "execution_count": 38,
   "metadata": {},
   "outputs": [
    {
     "data": {
      "image/png": "[encoded data removed]",
      "text/plain": [
       "<Figure size 936x648 with 1 Axes>"
      ]
     },
     "metadata": {
      "needs_background": "light"
     },
     "output_type": "display_data"
    }
   ],
   "source": [
    "# Saving my training data to a dataframe using the pandas method 'todense()', and setting columns as my tokens from the cvec model.\n",
    "X_train_df3 = pd.DataFrame(X_train_trans3.todense(), columns = cvec3.get_feature_names())\n",
    "\n",
    "# Plotting most frequently occurring words in a bar chart, english stop words, and my custom stop words removed.\n",
    "plt.figure(figsize = (13, 9))\n",
    "X_train_df3.sum().sort_values(ascending = False).head(25).plot(kind = 'barh')\n",
    "plt.xlabel('Count', size = 17)\n",
    "plt.ylabel('Token', size = 17)\n",
    "plt.title('Combined Subreddits: Top Tokens with Custom Stop Words', size = 20);"
   ]
  },
  {
   "cell_type": "markdown",
   "metadata": {},
   "source": [
    "---\n",
    "---\n",
    "## Section 4: Modeling\n",
    "\n",
    "---\n",
    "---"
   ]
  },
  {
   "cell_type": "markdown",
   "metadata": {},
   "source": [
    "### Baseline Accuracy"
   ]
  },
  {
   "cell_type": "markdown",
   "metadata": {},
   "source": [
    "This is the value to beat. If my model outperforms the prediction of the majority class (here `0`, or the Audio Engineering Subreddit) which has a baseline accuracy of `0.506725`, or $50.67\\%$), I know it's heading in the right direction.\n",
    "<br>\n",
    "<br>\n",
    "**NOTE:** $y$ is defined in Section 3 to be the `subreddit` feature values in my dataframe."
   ]
  },
  {
   "cell_type": "code",
   "execution_count": 39,
   "metadata": {},
   "outputs": [
    {
     "data": {
      "text/plain": [
       "1    0.506725\n",
       "0    0.493275\n",
       "Name: subreddit, dtype: float64"
      ]
     },
     "execution_count": 39,
     "metadata": {},
     "output_type": "execute_result"
    }
   ],
   "source": [
    "y.value_counts(normalize = True)"
   ]
  },
  {
   "cell_type": "markdown",
   "metadata": {},
   "source": [
    "---\n",
    "---\n",
    "### CountVectorizer & Naive Bayes"
   ]
  },
  {
   "cell_type": "code",
   "execution_count": 40,
   "metadata": {},
   "outputs": [],
   "source": [
    "# Instantiating a train-test-split on my merged dataframe.\n",
    "X_train, X_test, y_train, y_test = train_test_split(X, y, test_size = 0.25, random_state = 42)"
   ]
  },
  {
   "cell_type": "code",
   "execution_count": 41,
   "metadata": {},
   "outputs": [
    {
     "data": {
      "text/plain": [
       "1    3545\n",
       "0    3424\n",
       "Name: subreddit, dtype: int64"
      ]
     },
     "execution_count": 41,
     "metadata": {},
     "output_type": "execute_result"
    }
   ],
   "source": [
    "y_train.value_counts()"
   ]
  },
  {
   "cell_type": "markdown",
   "metadata": {},
   "source": [
    "**BELOW:** Instantiating a pipeline, then fitting and tuning a Multinomial Naive Bayes model, just to get an idea of what I'm working with. I'll further tune the CountVectorizer parameters as I begin to play with and improve the model. With guidance from Lesson 5.04."
   ]
  },
  {
   "cell_type": "code",
   "execution_count": 42,
   "metadata": {},
   "outputs": [],
   "source": [
    "# Instantiating a pipeline, and specifying Multinomial Naive Bayes as the estimator, and CountVectorizer as the transformer.\n",
    "pipe = Pipeline([\n",
    "    ('cvec', CountVectorizer()),\n",
    "    ('nb', MultinomialNB())\n",
    "])"
   ]
  },
  {
   "cell_type": "code",
   "execution_count": 43,
   "metadata": {},
   "outputs": [
    {
     "name": "stdout",
     "output_type": "stream",
     "text": [
      "Cross-Val Score   = 0.9553735061863942\n",
      "Training Accuracy = 0.9694360740421868\n",
      "Testing Accuracy  = 0.9522375215146299\n"
     ]
    }
   ],
   "source": [
    "# Evaluating how my model will perform on unseen data.\n",
    "print(f'Cross-Val Score   = {cross_val_score(pipe, X_train, y_train, cv = 5).mean()}') \n",
    "\n",
    "# Fitting my model.\n",
    "pipe.fit(X_train, y_train)\n",
    "\n",
    "# Looking at training and testing scores for my pipeline.\n",
    "print(f'Training Accuracy = {pipe.score(X_train, y_train)}')\n",
    "print(f'Testing Accuracy  = {pipe.score(X_test, y_test)}')"
   ]
  },
  {
   "cell_type": "code",
   "execution_count": 44,
   "metadata": {},
   "outputs": [],
   "source": [
    "# Defining my list of cvec hyperparameters to test in my gridsearch.\n",
    "pipe_params = {\n",
    "    # Defining max numbers of features to be fit.\n",
    "    'cvec__max_features': [5_000, 10_000, 15_000, 20_000, 25_000],\n",
    "    # Specifying that a token must occur a minumum of 2, 3, or 5 times to be factored into the model.\n",
    "    'cvec__min_df': [2, 3, 5],\n",
    "    # Specifying no stop words, English stop words, and my own stop words (defined above).\n",
    "    'cvec__stop_words': [None, 'english', stops],\n",
    "    # Checking individual tokens, and individual tokens and 2-grams.\n",
    "    'cvec__ngram_range': [(1,1), (1,2)]\n",
    "}"
   ]
  },
  {
   "cell_type": "code",
   "execution_count": 45,
   "metadata": {},
   "outputs": [],
   "source": [
    "# Instantiating GridSearchCV on my cvec-transformed data.\n",
    "gs = GridSearchCV(pipe, \n",
    "                  param_grid = pipe_params,\n",
    "                  # 5-fold cross-validation.\n",
    "                  cv = 5,                   \n",
    "                  # Defining n_jobs to be 12 so my gridsearch runs faster! I have 8 cores, so I can safely run up to 16 threads, but\n",
    "                  # because there are dimishing returns as I increase the number, I'm setting it at a slightly more modest 12.\n",
    "                  n_jobs = 12) "
   ]
  },
  {
   "cell_type": "code",
   "execution_count": 46,
   "metadata": {},
   "outputs": [
    {
     "data": {
      "text/plain": [
       "GridSearchCV(cv=5,\n",
       "             estimator=Pipeline(steps=[('cvec', CountVectorizer()),\n",
       "                                       ('nb', MultinomialNB())]),\n",
       "             n_jobs=12,\n",
       "             param_grid={'cvec__max_features': [5000, 10000, 15000, 20000,\n",
       "                                                25000],\n",
       "                         'cvec__min_df': [2, 3, 5],\n",
       "                         'cvec__ngram_range': [(1, 1), (1, 2)],\n",
       "                         'cvec__stop_words': [None, 'english',\n",
       "                                              frozenset({'a', 'about', 'above',\n",
       "                                                         'across', 'after',\n",
       "                                                         'afterwards', 'again',\n",
       "                                                         'against', 'all',\n",
       "                                                         'almost', 'alone',\n",
       "                                                         'along', 'already',\n",
       "                                                         'also', 'although',\n",
       "                                                         'always', 'am',\n",
       "                                                         'among', 'amongst',\n",
       "                                                         'amoungst', 'amount',\n",
       "                                                         'amp', 'an', 'and',\n",
       "                                                         'another', 'any',\n",
       "                                                         'anyhow', 'anyone',\n",
       "                                                         'anything', 'anyway', ...})]})"
      ]
     },
     "execution_count": 46,
     "metadata": {},
     "output_type": "execute_result"
    }
   ],
   "source": [
    "gs.fit(X_train, y_train)"
   ]
  },
  {
   "cell_type": "code",
   "execution_count": 47,
   "metadata": {},
   "outputs": [
    {
     "data": {
      "text/plain": [
       "{'cvec__max_features': 25000,\n",
       " 'cvec__min_df': 2,\n",
       " 'cvec__ngram_range': (1, 2),\n",
       " 'cvec__stop_words': 'english'}"
      ]
     },
     "execution_count": 47,
     "metadata": {},
     "output_type": "execute_result"
    }
   ],
   "source": [
    "# Looking at the best parameters my gridsearch chose for this model.\n",
    "gs.best_params_"
   ]
  },
  {
   "cell_type": "code",
   "execution_count": 48,
   "metadata": {},
   "outputs": [
    {
     "data": {
      "text/plain": [
       "0.956808947380889"
      ]
     },
     "execution_count": 48,
     "metadata": {},
     "output_type": "execute_result"
    }
   ],
   "source": [
    "# Looking at my best score - really good! This suggests my model will perform well on unseen data.\n",
    "gs.best_score_"
   ]
  },
  {
   "cell_type": "markdown",
   "metadata": {},
   "source": [
    "---\n",
    "\n",
    "**MODEL 1 SCORES:**"
   ]
  },
  {
   "cell_type": "code",
   "execution_count": 49,
   "metadata": {},
   "outputs": [
    {
     "data": {
      "text/plain": [
       "0.9727364040751901"
      ]
     },
     "execution_count": 49,
     "metadata": {},
     "output_type": "execute_result"
    }
   ],
   "source": [
    "# Scoring the model on training data.\n",
    "# This is how my model actually scored on my training data.\n",
    "gs.score(X_train, y_train)"
   ]
  },
  {
   "cell_type": "code",
   "execution_count": 50,
   "metadata": {},
   "outputs": [
    {
     "data": {
      "text/plain": [
       "0.9556798623063684"
      ]
     },
     "execution_count": 50,
     "metadata": {},
     "output_type": "execute_result"
    }
   ],
   "source": [
    "# Scoring the model on testing data. This is how it actually perfomed on unseen data.\n",
    "gs.score(X_test, y_test)"
   ]
  },
  {
   "cell_type": "markdown",
   "metadata": {},
   "source": [
    "---"
   ]
  },
  {
   "cell_type": "markdown",
   "metadata": {},
   "source": [
    "#### Confusion Matrix"
   ]
  },
  {
   "cell_type": "code",
   "execution_count": 51,
   "metadata": {},
   "outputs": [],
   "source": [
    "# Calculating predictions.\n",
    "preds = gs.predict(X_test)\n",
    "\n",
    "# Saving confustion matrix values so I can plot them below.\n",
    "tn, fp, fn, tp = confusion_matrix(y_test, preds).ravel()"
   ]
  },
  {
   "cell_type": "code",
   "execution_count": 52,
   "metadata": {},
   "outputs": [
    {
     "data": {
      "image/png": "[encoded data removed]",
      "text/plain": [
       "<Figure size 432x288 with 2 Axes>"
      ]
     },
     "metadata": {
      "needs_background": "light"
     },
     "output_type": "display_data"
    }
   ],
   "source": [
    "# Plotting a confusion matrix for my Naive Bayes/cvec gridsearch model.\n",
    "# Misclassifications appear minimal relative to correct predicitons.\n",
    "plot_confusion_matrix(gs, X_test, y_test, cmap='Blues', values_format='d');"
   ]
  },
  {
   "cell_type": "markdown",
   "metadata": {},
   "source": [
    "**Model 1 Thoughts:**\n",
    "- This Multinomial Naive Bayes model, using the `CountVectorizer` transformer, appears to be performing quite well, with a training score of 0.973 and a testing score of 0.956.\n",
    "- The fact that the training score is higher than the testing score suggests that this model is ever so slightly overfit. The difference between training and testing scores don't concern me in this case because the difference is so minute, and both are performing with a high degree of accuracy. I'd still be confident using this model to make predictions.\n",
    "- After tuning hyperparameters in my pipeline, I determined that 25,000 max features, a `max_df` of 2, an `n_gram` range of `(1,2)`, and English stop words yielded the best result for this model. \n",
    "- Based on the confusion matrix above, misclassification appears to be minimal."
   ]
  },
  {
   "cell_type": "markdown",
   "metadata": {},
   "source": [
    "---\n",
    "### TFIDF & Naive Bayes"
   ]
  },
  {
   "cell_type": "markdown",
   "metadata": {},
   "source": [
    "**BELOW:** Instantiating a pipeline using TfidfVectorizer as my transformer, then fitting and tuning a Multinomial Naive Bayes model. With guidance from Lesson 5.04."
   ]
  },
  {
   "cell_type": "code",
   "execution_count": 53,
   "metadata": {},
   "outputs": [],
   "source": [
    "tvec = TfidfVectorizer()"
   ]
  },
  {
   "cell_type": "code",
   "execution_count": 54,
   "metadata": {},
   "outputs": [],
   "source": [
    "# Instantiating a pipeline, and specifying Multinomial Naive Bayes as the estimator, and TfidfVectorizer as the transformer.\n",
    "pipe_tvec = Pipeline([\n",
    "    ('tvec', TfidfVectorizer()),\n",
    "    ('nb', MultinomialNB())\n",
    "])"
   ]
  },
  {
   "cell_type": "code",
   "execution_count": 55,
   "metadata": {},
   "outputs": [],
   "source": [
    "# Defining my list of tvec hyperparameters to test in my gridsearch.\n",
    "tvec_params = {\n",
    "    # Defining max numbers of features to be fit.\n",
    "    'tvec__max_features': [5_000, 10_000, 15_000, 20_000, 25_000],\n",
    "    # Specifying no stop words, English stop words, and my own stop words (defined above during the cvec process ass 'stops').\n",
    "    'tvec__stop_words': [None, 'english', stops],\n",
    "    # Checking individual tokens, and individual tokens and 2-grams.\n",
    "    'tvec__ngram_range': [(1,1), (1,2)]\n",
    "}"
   ]
  },
  {
   "cell_type": "code",
   "execution_count": 56,
   "metadata": {},
   "outputs": [],
   "source": [
    "# Instantiating GridSearchCV on my tvec-transformed data.\n",
    "\n",
    "gs_tvec = GridSearchCV(pipe_tvec,\n",
    "                        param_grid = tvec_params,                           \n",
    "                        cv = 5,\n",
    "                        # Defining n_jobs to be 12 so my gridsearch runs faster! I have 8 cores, so I can safely run up to 16 threads, but\n",
    "                        # because there are dimishing returns as I increase the number, I'm setting it at a slightly more modest 12.\n",
    "                        n_jobs = 12) "
   ]
  },
  {
   "cell_type": "code",
   "execution_count": 57,
   "metadata": {},
   "outputs": [
    {
     "data": {
      "text/plain": [
       "GridSearchCV(cv=5,\n",
       "             estimator=Pipeline(steps=[('tvec', TfidfVectorizer()),\n",
       "                                       ('nb', MultinomialNB())]),\n",
       "             n_jobs=12,\n",
       "             param_grid={'tvec__max_features': [5000, 10000, 15000, 20000,\n",
       "                                                25000],\n",
       "                         'tvec__ngram_range': [(1, 1), (1, 2)],\n",
       "                         'tvec__stop_words': [None, 'english',\n",
       "                                              frozenset({'a', 'about', 'above',\n",
       "                                                         'across', 'after',\n",
       "                                                         'afterwards', 'again',\n",
       "                                                         'against', 'all',\n",
       "                                                         'almost', 'alone',\n",
       "                                                         'along', 'already',\n",
       "                                                         'also', 'although',\n",
       "                                                         'always', 'am',\n",
       "                                                         'among', 'amongst',\n",
       "                                                         'amoungst', 'amount',\n",
       "                                                         'amp', 'an', 'and',\n",
       "                                                         'another', 'any',\n",
       "                                                         'anyhow', 'anyone',\n",
       "                                                         'anything', 'anyway', ...})]})"
      ]
     },
     "execution_count": 57,
     "metadata": {},
     "output_type": "execute_result"
    }
   ],
   "source": [
    "# Fit GridSearch to training data.\n",
    "gs_tvec.fit(X_train, y_train)"
   ]
  },
  {
   "cell_type": "code",
   "execution_count": 58,
   "metadata": {},
   "outputs": [
    {
     "data": {
      "text/plain": [
       "{'tvec__max_features': 25000,\n",
       " 'tvec__ngram_range': (1, 2),\n",
       " 'tvec__stop_words': 'english'}"
      ]
     },
     "execution_count": 58,
     "metadata": {},
     "output_type": "execute_result"
    }
   ],
   "source": [
    "# Looking at the best parameters my gridsearch chose for this model.\n",
    "gs_tvec.best_params_"
   ]
  },
  {
   "cell_type": "code",
   "execution_count": 59,
   "metadata": {},
   "outputs": [
    {
     "data": {
      "text/plain": [
       "0.9599654348809018"
      ]
     },
     "execution_count": 59,
     "metadata": {},
     "output_type": "execute_result"
    }
   ],
   "source": [
    "# Looking at my best score - really good! This suggests my model will perform well on unseen data.\n",
    "gs_tvec.best_score_"
   ]
  },
  {
   "cell_type": "markdown",
   "metadata": {},
   "source": [
    "---\n",
    "\n",
    "**MODEL 2 SCORES:**"
   ]
  },
  {
   "cell_type": "code",
   "execution_count": 60,
   "metadata": {},
   "outputs": [
    {
     "data": {
      "text/plain": [
       "0.9767541971588464"
      ]
     },
     "execution_count": 60,
     "metadata": {},
     "output_type": "execute_result"
    }
   ],
   "source": [
    "# Scoring the model on training data.\n",
    "# This is how my model actually scored on my training data.\n",
    "gs_tvec.score(X_train, y_train)"
   ]
  },
  {
   "cell_type": "code",
   "execution_count": 61,
   "metadata": {},
   "outputs": [
    {
     "data": {
      "text/plain": [
       "0.9574010327022375"
      ]
     },
     "execution_count": 61,
     "metadata": {},
     "output_type": "execute_result"
    }
   ],
   "source": [
    "# Scoring the model on testing data. This is how it actually perfomed on unseen data.\n",
    "gs_tvec.score(X_test, y_test)"
   ]
  },
  {
   "cell_type": "markdown",
   "metadata": {},
   "source": [
    "---"
   ]
  },
  {
   "cell_type": "markdown",
   "metadata": {},
   "source": [
    "#### Confusion Matrix"
   ]
  },
  {
   "cell_type": "code",
   "execution_count": 62,
   "metadata": {},
   "outputs": [],
   "source": [
    "# Calculating predictions.\n",
    "preds = gs_tvec.predict(X_test)\n",
    "\n",
    "# Saving confustion matrix values so I can plot them below.\n",
    "tn, fp, fn, tp = confusion_matrix(y_test, preds).ravel()"
   ]
  },
  {
   "cell_type": "code",
   "execution_count": 63,
   "metadata": {},
   "outputs": [
    {
     "data": {
      "image/png": "[encoded data removed]",
      "text/plain": [
       "<Figure size 432x288 with 2 Axes>"
      ]
     },
     "metadata": {
      "needs_background": "light"
     },
     "output_type": "display_data"
    }
   ],
   "source": [
    "# Plotting a confusion matrix for my Naive Bayes/tvec gridsearch model.\n",
    "# Misclassifications appear minimal relative to correct predicitons.\n",
    "plot_confusion_matrix(gs_tvec, X_test, y_test, cmap='Reds', values_format='d');"
   ]
  },
  {
   "cell_type": "markdown",
   "metadata": {},
   "source": [
    "**Model 2 Thoughts:**\n",
    "- My second Multinomial Naive Bayes model, using the `TfidfVectorizer` transformer, appears to be performing almost exactly the same as Model 1, with a training score of 0.977 and a testing score of 0.957.\n",
    "- Again here, the fact that the training score is slightly higher than the testing score suggests that this model is marginally overfit. I'd still be confident using it to make predictions, given its small difference from the testing score.\n",
    "- After tuning hyperparameters in my pipeline, I determined that 25,000 max features, an `n_gram` range of `(1,2)`, and English stop words yielded the best result for this model.\n",
    "- Based on the confusion matrix above, misclassification appears to be minimal.\n",
    "- I would choose the Multinomial Naive Bayes model using the `CountVectorizer` transformer over this Multinomial Naive Bayes model using the `TfidfVectorizer` transformer, since it appears to be ever so slightly less overfit, and performs equally well on unseen data. That said, I'd be confident making predictions with either."
   ]
  },
  {
   "cell_type": "markdown",
   "metadata": {},
   "source": [
    "------\n",
    "------\n",
    "### CountVectorizer & Random Forest"
   ]
  },
  {
   "cell_type": "code",
   "execution_count": 64,
   "metadata": {},
   "outputs": [],
   "source": [
    "rf = RandomForestClassifier()"
   ]
  },
  {
   "cell_type": "code",
   "execution_count": 65,
   "metadata": {},
   "outputs": [],
   "source": [
    "# Instantiating a CountVectorizer and fitting/transforming to my X training data.\n",
    "# With guidance from lesson 5.04.\n",
    "cvec = CountVectorizer()\n",
    "cvec.fit(X_train)\n",
    "X_train_trans_cvec = cvec.transform(X_train)\n",
    "\n",
    "# Transforming X_test to test my model on unseen data later.\n",
    "X_test_trans_cvec = cvec.transform(X_test)"
   ]
  },
  {
   "cell_type": "code",
   "execution_count": 66,
   "metadata": {},
   "outputs": [
    {
     "data": {
      "text/plain": [
       "0.9331319437935734"
      ]
     },
     "execution_count": 66,
     "metadata": {},
     "output_type": "execute_result"
    }
   ],
   "source": [
    "# Getting a mean cross validated score for my model. From this, it looks like I can anticipate a pretty good model!\n",
    "cross_val_score(rf, X_train_trans, y_train, cv = 5).mean()"
   ]
  },
  {
   "cell_type": "markdown",
   "metadata": {},
   "source": [
    "**BELOW:** I'm building a block of code to instantiate a Random Forest Classifier, allow for tunable hyperparameters, and save model performance results, as well as the parameter values that yielded those results into a new dataframe. With significant guidance from Lesson 6.03."
   ]
  },
  {
   "cell_type": "code",
   "execution_count": 67,
   "metadata": {},
   "outputs": [],
   "source": [
    "# Setting up an empty dictionary for my random forest parameters, and a count variable, for keeping track of my models.\n",
    "forest_params = {}\n",
    "counter = 0"
   ]
  },
  {
   "cell_type": "code",
   "execution_count": 68,
   "metadata": {},
   "outputs": [],
   "source": [
    "# Instantiating a random forest classifier model.\n",
    "rf = RandomForestClassifier()\n",
    "\n",
    "# Defining parameters for my random forest. I'll tune these in order to improve my score, and save the results in a dataframe below.\n",
    "params_rf = {\n",
    "    # n_estimators allows me to test the model with different numbers of decision trees.\n",
    "    'n_estimators': [75, 100, 150],\n",
    "    # max_features allows me to specify all features (each column created for each word), or 'auto', which is the square root of my features.\n",
    "    'max_features': [None, 'auto'],\n",
    "    # max_depth allows me to set how many splits my tree will have.\n",
    "    'max_depth': [20, 25, 35],\n",
    "    # ccp_alpha 'prunes' my tree, returning the tree with the largest cost complexity less than my alpha.\n",
    "    'ccp_alpha': [0, 0.1]\n",
    "}\n",
    "\n",
    "# Instantiating a gridsearch over my random forest.\n",
    "gs_rf_cvec = GridSearchCV(rf, param_grid = params_rf, cv = 5, n_jobs = 12)\n",
    "\n",
    "# Fitting my random forest model.\n",
    "gs_rf_cvec.fit(X_train_trans_cvec, y_train)\n",
    "\n",
    "# Adding 1 to my counter each time I run this cell - this will allow me to keep track of the performance of various versions of the model.\n",
    "counter += 1\n",
    "\n",
    "gs_rf_cvec.best_params_['score'] = gs_rf_cvec.best_score_\n",
    "forest_params[f'model_{counter}'] = gs_rf_cvec.best_params_\n",
    "\n",
    "# Saving results to a pandas dataframe. With help from lesson 6.03.\n",
    "forest_df = pd.DataFrame.from_dict(forest_params, orient = 'index')\n",
    "#forest_df"
   ]
  },
  {
   "cell_type": "code",
   "execution_count": 70,
   "metadata": {},
   "outputs": [],
   "source": [
    "# Creating a column for my models and assigning values based on index.\n",
    "forest_df['model'] = {'Random Forest & CVEC 1': 0, 'Random Forest & CVEC 2': 1, 'Random Forest & CVEC 3': 2, 'Random Forest & CVEC 4': 3, 'Random Forest & CVEC 5': 4}"
   ]
  },
  {
   "cell_type": "code",
   "execution_count": 71,
   "metadata": {},
   "outputs": [
    {
     "data": {
      "text/html": [
       "<div>\n",
       "<style scoped>\n",
       "    .dataframe tbody tr th:only-of-type {\n",
       "        vertical-align: middle;\n",
       "    }\n",
       "\n",
       "    .dataframe tbody tr th {\n",
       "        vertical-align: top;\n",
       "    }\n",
       "\n",
       "    .dataframe thead th {\n",
       "        text-align: right;\n",
       "    }\n",
       "</style>\n",
       "<table border=\"1\" class=\"dataframe\">\n",
       "  <thead>\n",
       "    <tr style=\"text-align: right;\">\n",
       "      <th></th>\n",
       "      <th>model</th>\n",
       "      <th>score</th>\n",
       "      <th>n_estimators</th>\n",
       "      <th>max_depth</th>\n",
       "      <th>max_features</th>\n",
       "      <th>ccp_alpha</th>\n",
       "    </tr>\n",
       "  </thead>\n",
       "  <tbody>\n",
       "    <tr>\n",
       "      <th>0</th>\n",
       "      <td>Random Forest &amp; CVEC 1</td>\n",
       "      <td>0.875592</td>\n",
       "      <td>50</td>\n",
       "      <td>6</td>\n",
       "      <td>NaN</td>\n",
       "      <td>0</td>\n",
       "    </tr>\n",
       "    <tr>\n",
       "      <th>1</th>\n",
       "      <td>Random Forest &amp; CVEC 2</td>\n",
       "      <td>0.890658</td>\n",
       "      <td>100</td>\n",
       "      <td>8</td>\n",
       "      <td>NaN</td>\n",
       "      <td>0</td>\n",
       "    </tr>\n",
       "    <tr>\n",
       "      <th>2</th>\n",
       "      <td>Random Forest &amp; CVEC 3</td>\n",
       "      <td>0.910890</td>\n",
       "      <td>75</td>\n",
       "      <td>15</td>\n",
       "      <td>auto</td>\n",
       "      <td>0</td>\n",
       "    </tr>\n",
       "    <tr>\n",
       "      <th>3</th>\n",
       "      <td>Random Forest &amp; CVEC 4</td>\n",
       "      <td>0.925528</td>\n",
       "      <td>150</td>\n",
       "      <td>25</td>\n",
       "      <td>auto</td>\n",
       "      <td>0</td>\n",
       "    </tr>\n",
       "    <tr>\n",
       "      <th>4</th>\n",
       "      <td>Random Forest &amp; CVEC 5</td>\n",
       "      <td>0.926962</td>\n",
       "      <td>100</td>\n",
       "      <td>35</td>\n",
       "      <td>auto</td>\n",
       "      <td>0</td>\n",
       "    </tr>\n",
       "  </tbody>\n",
       "</table>\n",
       "</div>"
      ],
      "text/plain": [
       "                    model     score  n_estimators  max_depth max_features  \\\n",
       "0  Random Forest & CVEC 1  0.875592            50          6          NaN   \n",
       "1  Random Forest & CVEC 2  0.890658           100          8          NaN   \n",
       "2  Random Forest & CVEC 3  0.910890            75         15         auto   \n",
       "3  Random Forest & CVEC 4  0.925528           150         25         auto   \n",
       "4  Random Forest & CVEC 5  0.926962           100         35         auto   \n",
       "\n",
       "   ccp_alpha  \n",
       "0          0  \n",
       "1          0  \n",
       "2          0  \n",
       "3          0  \n",
       "4          0  "
      ]
     },
     "execution_count": 71,
     "metadata": {},
     "output_type": "execute_result"
    }
   ],
   "source": [
    "# Rearranging my columns in the order I'd like.\n",
    "forest_df = forest_df[['model', 'score', 'n_estimators', 'max_depth', 'max_features', 'ccp_alpha']]\n",
    "forest_df"
   ]
  },
  {
   "cell_type": "code",
   "execution_count": 72,
   "metadata": {},
   "outputs": [],
   "source": [
    "# Saving my test results and respective best parameters to a pandas dataframe.\n",
    "forest_df.to_csv('../data/random_forest_models.csv', index = False)"
   ]
  },
  {
   "cell_type": "markdown",
   "metadata": {},
   "source": [
    "---\n",
    "**SCORING TESTING DATA WITH MY BEST-PERFORMING RF & CVEC MODEL:**"
   ]
  },
  {
   "cell_type": "code",
   "execution_count": 73,
   "metadata": {},
   "outputs": [
    {
     "data": {
      "text/plain": [
       "0.9728798966853207"
      ]
     },
     "execution_count": 73,
     "metadata": {},
     "output_type": "execute_result"
    }
   ],
   "source": [
    "# Training score:\n",
    "gs_rf_cvec.score(X_train_trans_cvec, y_train)"
   ]
  },
  {
   "cell_type": "code",
   "execution_count": 74,
   "metadata": {},
   "outputs": [
    {
     "data": {
      "text/plain": [
       "0.927710843373494"
      ]
     },
     "execution_count": 74,
     "metadata": {},
     "output_type": "execute_result"
    }
   ],
   "source": [
    "# Testing score:\n",
    "gs_rf_cvec.score(X_test_trans_cvec, y_test)"
   ]
  },
  {
   "cell_type": "markdown",
   "metadata": {},
   "source": [
    "**Model 3 Thoughts:**\n",
    "- This Random Forest model, using the `CountVectorizer` transformer, appears to be performing quite well. More specifically, the 5th iteration of tuning hyperparameters of my Random Forest performed best (see **Random Forest & CVEC 5** row of above dataframe), with a training accuracy score of 0.973, and a testing accuracy score of 0.928.\n",
    "- Here, the fact that the training score is slightly higher than the testing score suggests that this model is a bit overfit - moreso than either of my Multinomial Naive Bayes models. It's certainly not a bad model, but I'd choose either of the MNB models over this model, as the test and training scores are more closely aligned.\n",
    "- I'd be confident using it to make predictions, given its vast outperformance of the baseline accuracy, as well as its high accuracy on my training and testing data."
   ]
  },
  {
   "cell_type": "markdown",
   "metadata": {},
   "source": [
    "------\n",
    "### TFIDF & Random Forest"
   ]
  },
  {
   "cell_type": "markdown",
   "metadata": {},
   "source": [
    "**BELOW:** I'm building a block of code to instantiate a `RandomForestClassifier`, allow for tunable hyperparameters, and save model performance results, as well as the parameter values that yield those results into a new dataframe. With guidance from Lesson 6.03."
   ]
  },
  {
   "cell_type": "code",
   "execution_count": 75,
   "metadata": {},
   "outputs": [],
   "source": [
    "# Instantiating a TfidfVectorizer and fitting/transforming to my X training data.\n",
    "# With guidance from lesson 5.04.\n",
    "tvec = TfidfVectorizer()\n",
    "tvec.fit(X_train)\n",
    "X_train_trans_tvec = tvec.transform(X_train)\n",
    "\n",
    "# Transforming X_test to test my model on unseen data later.\n",
    "X_test_trans_tvec = tvec.transform(X_test)"
   ]
  },
  {
   "cell_type": "code",
   "execution_count": 76,
   "metadata": {},
   "outputs": [],
   "source": [
    "# Setting up an empty dictionary for my random forest parameters, and a count variable, for keeping track of my models.\n",
    "forest_params = {}\n",
    "counter = 0"
   ]
  },
  {
   "cell_type": "code",
   "execution_count": 77,
   "metadata": {},
   "outputs": [],
   "source": [
    "# Instantiating a random forest classifier model.\n",
    "rf = RandomForestClassifier()\n",
    "\n",
    "# Defining parameters for my random forest. I'll tune these in order to improve my score, and save the results in a dataframe below.\n",
    "params_rf = {\n",
    "    # n_estimators allows me to test the model with different numbers of decision trees.\n",
    "    'n_estimators': [100, 150, 200],\n",
    "    # max_features allows me to specify all features (each column created for each word), or 'auto', which is the square root of my features.\n",
    "    'max_features': [None, 'auto'],\n",
    "    # max_depth allows me to set how many splits my tree will have.\n",
    "    'max_depth': [20, 25, 35],\n",
    "    # ccp_alpha 'prunes' my tree, returning the tree with the largest cost complexity less than my alpha.\n",
    "    'ccp_alpha': [0, 0.1]\n",
    "}\n",
    "\n",
    "# Instantiating a gridsearch over my random forest.\n",
    "gs_rf_tfidf = GridSearchCV(rf, param_grid = params_rf, cv = 5, n_jobs = 12)\n",
    "\n",
    "# Fitting my random forest model.\n",
    "gs_rf_tfidf.fit(X_train_trans_tvec, y_train)\n",
    "\n",
    "# Adding 1 to my counter each time I run this cell - this will allow me to keep track of the performance of various versions of the model.\n",
    "counter += 1\n",
    "\n",
    "gs_rf_tfidf.best_params_['score'] = gs_rf_tfidf.best_score_\n",
    "forest_params[f'model_{counter}'] = gs_rf_tfidf.best_params_\n",
    "\n",
    "# Saving results to a pandas dataframe. With help from lesson 6.03.\n",
    "forest_df_tfidf = pd.DataFrame.from_dict(forest_params, orient = 'index')\n",
    "#forest_df_tfidf"
   ]
  },
  {
   "cell_type": "code",
   "execution_count": 79,
   "metadata": {},
   "outputs": [],
   "source": [
    "# Creating a column for my models and assigning values based on index.\n",
    "forest_df_tfidf['model'] = {'Random Forest & TVEC 1': 0, 'Random Forest & TVEC 2': 1, 'Random Forest & TVEC 3': 2, 'Random Forest & TVEC 4': 3}"
   ]
  },
  {
   "cell_type": "code",
   "execution_count": 80,
   "metadata": {},
   "outputs": [],
   "source": [
    "# Rearranging my columns in the order I'd like.\n",
    "forest_df_tfidf = forest_df_tfidf[['model', 'score', 'n_estimators', 'max_depth', 'max_features', 'ccp_alpha']]\n",
    "\n",
    "# Resetting the index on my resulting dataframe.\n",
    "forest_df_tfidf.reset_index(inplace = True)\n",
    "\n",
    "# Dropping the 'index' column resulting from resetting the index.\n",
    "forest_df_tfidf.drop(columns=['index'], inplace = True)"
   ]
  },
  {
   "cell_type": "code",
   "execution_count": 81,
   "metadata": {},
   "outputs": [
    {
     "data": {
      "text/html": [
       "<div>\n",
       "<style scoped>\n",
       "    .dataframe tbody tr th:only-of-type {\n",
       "        vertical-align: middle;\n",
       "    }\n",
       "\n",
       "    .dataframe tbody tr th {\n",
       "        vertical-align: top;\n",
       "    }\n",
       "\n",
       "    .dataframe thead th {\n",
       "        text-align: right;\n",
       "    }\n",
       "</style>\n",
       "<table border=\"1\" class=\"dataframe\">\n",
       "  <thead>\n",
       "    <tr style=\"text-align: right;\">\n",
       "      <th></th>\n",
       "      <th>model</th>\n",
       "      <th>score</th>\n",
       "      <th>n_estimators</th>\n",
       "      <th>max_depth</th>\n",
       "      <th>max_features</th>\n",
       "      <th>ccp_alpha</th>\n",
       "    </tr>\n",
       "  </thead>\n",
       "  <tbody>\n",
       "    <tr>\n",
       "      <th>0</th>\n",
       "      <td>Random Forest &amp; TVEC 1</td>\n",
       "      <td>0.925671</td>\n",
       "      <td>100</td>\n",
       "      <td>25</td>\n",
       "      <td>auto</td>\n",
       "      <td>0</td>\n",
       "    </tr>\n",
       "    <tr>\n",
       "      <th>1</th>\n",
       "      <td>Random Forest &amp; TVEC 2</td>\n",
       "      <td>0.926819</td>\n",
       "      <td>150</td>\n",
       "      <td>30</td>\n",
       "      <td>auto</td>\n",
       "      <td>0</td>\n",
       "    </tr>\n",
       "    <tr>\n",
       "      <th>2</th>\n",
       "      <td>Random Forest &amp; TVEC 3</td>\n",
       "      <td>0.930550</td>\n",
       "      <td>200</td>\n",
       "      <td>35</td>\n",
       "      <td>auto</td>\n",
       "      <td>0</td>\n",
       "    </tr>\n",
       "    <tr>\n",
       "      <th>3</th>\n",
       "      <td>Random Forest &amp; TVEC 4</td>\n",
       "      <td>0.933850</td>\n",
       "      <td>200</td>\n",
       "      <td>35</td>\n",
       "      <td>auto</td>\n",
       "      <td>0</td>\n",
       "    </tr>\n",
       "  </tbody>\n",
       "</table>\n",
       "</div>"
      ],
      "text/plain": [
       "                    model     score  n_estimators  max_depth max_features  \\\n",
       "0  Random Forest & TVEC 1  0.925671           100         25         auto   \n",
       "1  Random Forest & TVEC 2  0.926819           150         30         auto   \n",
       "2  Random Forest & TVEC 3  0.930550           200         35         auto   \n",
       "3  Random Forest & TVEC 4  0.933850           200         35         auto   \n",
       "\n",
       "   ccp_alpha  \n",
       "0          0  \n",
       "1          0  \n",
       "2          0  \n",
       "3          0  "
      ]
     },
     "execution_count": 81,
     "metadata": {},
     "output_type": "execute_result"
    }
   ],
   "source": [
    "forest_df_tfidf"
   ]
  },
  {
   "cell_type": "code",
   "execution_count": 82,
   "metadata": {},
   "outputs": [],
   "source": [
    "forest_df_tfidf.to_csv('../data/random_forest_models_tvec.csv', index = False)"
   ]
  },
  {
   "cell_type": "markdown",
   "metadata": {},
   "source": [
    "---\n",
    "**SCORING TESTING DATA WITH MY BEST-PERFORMING RF & TVEC MODEL:**"
   ]
  },
  {
   "cell_type": "code",
   "execution_count": 83,
   "metadata": {},
   "outputs": [
    {
     "data": {
      "text/plain": [
       "0.9784761084804132"
      ]
     },
     "execution_count": 83,
     "metadata": {},
     "output_type": "execute_result"
    }
   ],
   "source": [
    "# Training Score:\n",
    "gs_rf_tfidf.score(X_train_trans_tvec, y_train)"
   ]
  },
  {
   "cell_type": "code",
   "execution_count": 84,
   "metadata": {},
   "outputs": [
    {
     "data": {
      "text/plain": [
       "0.935025817555938"
      ]
     },
     "execution_count": 84,
     "metadata": {},
     "output_type": "execute_result"
    }
   ],
   "source": [
    "# Testing Score:\n",
    "gs_rf_tfidf.score(X_test_trans_tvec, y_test)"
   ]
  },
  {
   "cell_type": "markdown",
   "metadata": {},
   "source": [
    "**Model 4 Thoughts:**\n",
    "- This Random Forest model, using the `TfidfVectorizer` transformer, appears to be my best performing model of all my Random Forests, including those using `CountVectorizer` as the transformer. More specifically, the 4th iteration of tuning hyperparameters of my Random Forest performed best (see **Random Forest & TVEC 4** row of above dataframe), with a training accuracy score of 0.978, and a testing accuracy score of 0.935.\n",
    "- The training score is a bit higher than the testing score on this model, which suggests that the model is a bit overfit - again, moreso than either of my Multinomial Naive Bayes models. It's still a high-performing model, but I'd choose either of the MNB models over this model, as the test and training scores are more closely aligned.\n",
    "- I'd still be confident using this model to make predictions, given its vast outperformance of the baseline accuracy, as well as its high accuracy on my training and testing data.\n",
    "- I would choose this Random Forest model using the `TfidfVectorizer` transformer over my Random Forest model using the `CountVectorizer` transformer, since it appears to be ever so slightly more accurate."
   ]
  },
  {
   "cell_type": "markdown",
   "metadata": {},
   "source": [
    "---"
   ]
  },
  {
   "cell_type": "markdown",
   "metadata": {},
   "source": [
    "**BELOW:** Merging and saving all my hyperparameters from both Random Forest models to a dataframe, and exporting to CSV."
   ]
  },
  {
   "cell_type": "code",
   "execution_count": 85,
   "metadata": {},
   "outputs": [],
   "source": [
    "tvec_df = pd.read_csv('../data/random_forest_models_tvec.csv')\n",
    "cvec_df = pd.read_csv('../data/random_forest_models_cvec.csv')"
   ]
  },
  {
   "cell_type": "markdown",
   "metadata": {},
   "source": [
    "**BELOW:** The following dataframe shows the 9 different iterations of `RandomForestClassifier` models I built, along with their corresponding best parameters and best scores."
   ]
  },
  {
   "cell_type": "code",
   "execution_count": 86,
   "metadata": {},
   "outputs": [
    {
     "data": {
      "text/html": [
       "<div>\n",
       "<style scoped>\n",
       "    .dataframe tbody tr th:only-of-type {\n",
       "        vertical-align: middle;\n",
       "    }\n",
       "\n",
       "    .dataframe tbody tr th {\n",
       "        vertical-align: top;\n",
       "    }\n",
       "\n",
       "    .dataframe thead th {\n",
       "        text-align: right;\n",
       "    }\n",
       "</style>\n",
       "<table border=\"1\" class=\"dataframe\">\n",
       "  <thead>\n",
       "    <tr style=\"text-align: right;\">\n",
       "      <th></th>\n",
       "      <th>model</th>\n",
       "      <th>score</th>\n",
       "      <th>n_estimators</th>\n",
       "      <th>max_depth</th>\n",
       "      <th>max_features</th>\n",
       "      <th>ccp_alpha</th>\n",
       "    </tr>\n",
       "  </thead>\n",
       "  <tbody>\n",
       "    <tr>\n",
       "      <th>0</th>\n",
       "      <td>Random Forest &amp; TVEC 1</td>\n",
       "      <td>0.925671</td>\n",
       "      <td>100</td>\n",
       "      <td>25</td>\n",
       "      <td>auto</td>\n",
       "      <td>0</td>\n",
       "    </tr>\n",
       "    <tr>\n",
       "      <th>1</th>\n",
       "      <td>Random Forest &amp; TVEC 2</td>\n",
       "      <td>0.926819</td>\n",
       "      <td>150</td>\n",
       "      <td>30</td>\n",
       "      <td>auto</td>\n",
       "      <td>0</td>\n",
       "    </tr>\n",
       "    <tr>\n",
       "      <th>2</th>\n",
       "      <td>Random Forest &amp; TVEC 3</td>\n",
       "      <td>0.930550</td>\n",
       "      <td>200</td>\n",
       "      <td>35</td>\n",
       "      <td>auto</td>\n",
       "      <td>0</td>\n",
       "    </tr>\n",
       "    <tr>\n",
       "      <th>3</th>\n",
       "      <td>Random Forest &amp; TVEC 4</td>\n",
       "      <td>0.933850</td>\n",
       "      <td>200</td>\n",
       "      <td>35</td>\n",
       "      <td>auto</td>\n",
       "      <td>0</td>\n",
       "    </tr>\n",
       "    <tr>\n",
       "      <th>4</th>\n",
       "      <td>Random Forest &amp; CVEC 1</td>\n",
       "      <td>0.875592</td>\n",
       "      <td>50</td>\n",
       "      <td>6</td>\n",
       "      <td>NaN</td>\n",
       "      <td>0</td>\n",
       "    </tr>\n",
       "    <tr>\n",
       "      <th>5</th>\n",
       "      <td>Random Forest &amp; CVEC 2</td>\n",
       "      <td>0.890658</td>\n",
       "      <td>100</td>\n",
       "      <td>8</td>\n",
       "      <td>NaN</td>\n",
       "      <td>0</td>\n",
       "    </tr>\n",
       "    <tr>\n",
       "      <th>6</th>\n",
       "      <td>Random Forest &amp; CVEC 3</td>\n",
       "      <td>0.910890</td>\n",
       "      <td>75</td>\n",
       "      <td>15</td>\n",
       "      <td>auto</td>\n",
       "      <td>0</td>\n",
       "    </tr>\n",
       "    <tr>\n",
       "      <th>7</th>\n",
       "      <td>Random Forest &amp; CVEC 4</td>\n",
       "      <td>0.925528</td>\n",
       "      <td>150</td>\n",
       "      <td>25</td>\n",
       "      <td>auto</td>\n",
       "      <td>0</td>\n",
       "    </tr>\n",
       "    <tr>\n",
       "      <th>8</th>\n",
       "      <td>Random Forest &amp; CVEC 5</td>\n",
       "      <td>0.926962</td>\n",
       "      <td>100</td>\n",
       "      <td>35</td>\n",
       "      <td>auto</td>\n",
       "      <td>0</td>\n",
       "    </tr>\n",
       "  </tbody>\n",
       "</table>\n",
       "</div>"
      ],
      "text/plain": [
       "                    model     score  n_estimators  max_depth max_features  \\\n",
       "0  Random Forest & TVEC 1  0.925671           100         25         auto   \n",
       "1  Random Forest & TVEC 2  0.926819           150         30         auto   \n",
       "2  Random Forest & TVEC 3  0.930550           200         35         auto   \n",
       "3  Random Forest & TVEC 4  0.933850           200         35         auto   \n",
       "4  Random Forest & CVEC 1  0.875592            50          6          NaN   \n",
       "5  Random Forest & CVEC 2  0.890658           100          8          NaN   \n",
       "6  Random Forest & CVEC 3  0.910890            75         15         auto   \n",
       "7  Random Forest & CVEC 4  0.925528           150         25         auto   \n",
       "8  Random Forest & CVEC 5  0.926962           100         35         auto   \n",
       "\n",
       "   ccp_alpha  \n",
       "0          0  \n",
       "1          0  \n",
       "2          0  \n",
       "3          0  \n",
       "4          0  \n",
       "5          0  \n",
       "6          0  \n",
       "7          0  \n",
       "8          0  "
      ]
     },
     "execution_count": 86,
     "metadata": {},
     "output_type": "execute_result"
    }
   ],
   "source": [
    "random_forest_models = pd.concat([tvec_df, cvec_df])\n",
    "\n",
    "random_forest_models.reset_index(inplace = True)\n",
    "\n",
    "random_forest_models.drop(columns=['index'], inplace = True)\n",
    "\n",
    "random_forest_models"
   ]
  },
  {
   "cell_type": "code",
   "execution_count": 87,
   "metadata": {},
   "outputs": [],
   "source": [
    "# Saving my test results and respective best parameters to a pandas dataframe.\n",
    "random_forest_models.to_csv('../data/random_forest_models.csv', index = False)"
   ]
  }
 ],
 "metadata": {
  "kernelspec": {
   "display_name": "Python 3",
   "language": "python",
   "name": "python3"
  },
  "language_info": {
   "codemirror_mode": {
    "name": "ipython",
    "version": 3
   },
   "file_extension": ".py",
   "mimetype": "text/x-python",
   "name": "python",
   "nbconvert_exporter": "python",
   "pygments_lexer": "ipython3",
   "version": "3.7.9"
  }
 },
 "nbformat": 4,
 "nbformat_minor": 4
}
