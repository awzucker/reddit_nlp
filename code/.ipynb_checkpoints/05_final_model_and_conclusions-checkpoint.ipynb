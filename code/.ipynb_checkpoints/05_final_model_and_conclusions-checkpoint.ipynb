{
 "cells": [
  {
   "cell_type": "markdown",
   "metadata": {},
   "source": [
    "<img src=\"http://imgur.com/1ZcRyrc.png\" style=\"float: left; margin: 20px; height: 55px\">\n",
    "\n",
    "# Project 3: Notebook 5\n",
    "## Final Model & Conclusions"
   ]
  },
  {
   "cell_type": "markdown",
   "metadata": {},
   "source": [
    "---\n",
    "## Section 1: Introduction\n",
    "---"
   ]
  },
  {
   "cell_type": "markdown",
   "metadata": {},
   "source": [
    "#### Problem Statement"
   ]
  },
  {
   "cell_type": "markdown",
   "metadata": {},
   "source": [
    "In this study, I will use Naive Bayes and Random Forest models to classify posts in the Audio Engineering and Songwriting Subreddits, with the goal of helping a beginner songwriter and recordist determine where to find the most relevant and helpful information for their learning process.\n",
    "<br>\n",
    "<br>\n",
    "With the leaps in accessible audio recording technology over the past decade, more young musicians are starting to both write and record their own music. In my experience, it’s more financially viable to learn to record yourself. However, there’s a steep learning curve, and learning from the experience of decades of recording and songwriting wisdom available online is a huge help."
   ]
  },
  {
   "cell_type": "markdown",
   "metadata": {},
   "source": [
    "#### Background"
   ]
  },
  {
   "cell_type": "markdown",
   "metadata": {},
   "source": [
    "I've spent the last 15 years writing, producing, and recording music, and over that time, I came to learn two very important things: first, there's a wealth of valuable information available on the internet; and second, there's a wealth of misleading, not-so-valuable information on the internet. [Reddit](https://www.reddit.com) (and its many Subreddits) is an excellent source for both the valuable information and the not-so-valuable information. As someone who's navigated this tricky territory, I'd love to create a tool to help guide young songwriters and recordists to positive, trustworthy online communities where they can learn and develop their craft.\n",
    "<br>\n",
    "<br>\n",
    "I chose to explore posts and build my **Multinomial Naive Bayes** and **Random Forest** classification models based on the following **Subreddits**:\n",
    "* [r/audioengineering](https://www.reddit.com/r/audioengineering/): A community of audio engineers, technicians, builders, and musicians focused on providing tips and tricks for the amateur-to-professional recordist.\n",
    "* [r/Songwriting](https://www.reddit.com/r/Songwriting/): A community of songwriters, musicians, and recordists focused on providing tips for writing music and feedback on original music."
   ]
  },
  {
   "cell_type": "markdown",
   "metadata": {},
   "source": [
    "---\n",
    "## Section 2: Imports\n",
    "\n",
    "---"
   ]
  },
  {
   "cell_type": "markdown",
   "metadata": {},
   "source": [
    "**BELOW:** Importing Python libraries for processing and modeling my Subreddits."
   ]
  },
  {
   "cell_type": "code",
   "execution_count": 1,
   "metadata": {},
   "outputs": [],
   "source": [
    "# The basics\n",
    "import numpy as np\n",
    "import pandas as pd\n",
    "import matplotlib.pyplot as plt\n",
    "import seaborn as sns\n",
    "\n",
    "# Pipeline and Gridsearch imports.\n",
    "from sklearn.model_selection import GridSearchCV, train_test_split, cross_val_score\n",
    "from sklearn.pipeline import Pipeline\n",
    "\n",
    "# Estimator imports\n",
    "from sklearn.naive_bayes import MultinomialNB\n",
    "from sklearn.linear_model import LogisticRegression\n",
    "from sklearn.metrics import confusion_matrix, plot_confusion_matrix\n",
    "\n",
    "# Token processing imports\n",
    "from sklearn.feature_extraction.text import CountVectorizer\n",
    "from sklearn.feature_extraction import text"
   ]
  },
  {
   "cell_type": "markdown",
   "metadata": {},
   "source": [
    "**BELOW:** Pulling in the cleaned CSV of my merged Subreddits."
   ]
  },
  {
   "cell_type": "code",
   "execution_count": 2,
   "metadata": {},
   "outputs": [],
   "source": [
    "subs_df = pd.read_csv('../data/subs_df_01.csv')"
   ]
  },
  {
   "cell_type": "code",
   "execution_count": 3,
   "metadata": {},
   "outputs": [
    {
     "data": {
      "text/html": [
       "<div>\n",
       "<style scoped>\n",
       "    .dataframe tbody tr th:only-of-type {\n",
       "        vertical-align: middle;\n",
       "    }\n",
       "\n",
       "    .dataframe tbody tr th {\n",
       "        vertical-align: top;\n",
       "    }\n",
       "\n",
       "    .dataframe thead th {\n",
       "        text-align: right;\n",
       "    }\n",
       "</style>\n",
       "<table border=\"1\" class=\"dataframe\">\n",
       "  <thead>\n",
       "    <tr style=\"text-align: right;\">\n",
       "      <th></th>\n",
       "      <th>subreddit</th>\n",
       "      <th>full_post</th>\n",
       "    </tr>\n",
       "  </thead>\n",
       "  <tbody>\n",
       "    <tr>\n",
       "      <th>0</th>\n",
       "      <td>0</td>\n",
       "      <td>Help Identifying a Mic [https://www.youtube.co...</td>\n",
       "    </tr>\n",
       "    <tr>\n",
       "      <th>1</th>\n",
       "      <td>0</td>\n",
       "      <td>Import eq filters to t.racks dsp 4x4 mini from...</td>\n",
       "    </tr>\n",
       "  </tbody>\n",
       "</table>\n",
       "</div>"
      ],
      "text/plain": [
       "   subreddit                                          full_post\n",
       "0          0  Help Identifying a Mic [https://www.youtube.co...\n",
       "1          0  Import eq filters to t.racks dsp 4x4 mini from..."
      ]
     },
     "execution_count": 3,
     "metadata": {},
     "output_type": "execute_result"
    }
   ],
   "source": [
    "subs_df.head(2)"
   ]
  },
  {
   "cell_type": "code",
   "execution_count": 4,
   "metadata": {},
   "outputs": [
    {
     "data": {
      "text/plain": [
       "subreddit    0\n",
       "full_post    0\n",
       "dtype: int64"
      ]
     },
     "execution_count": 4,
     "metadata": {},
     "output_type": "execute_result"
    }
   ],
   "source": [
    "subs_df.isnull().sum()"
   ]
  },
  {
   "cell_type": "markdown",
   "metadata": {},
   "source": [
    "---\n",
    "## Section 3: Baseline Accuracy\n",
    "\n",
    "---"
   ]
  },
  {
   "cell_type": "markdown",
   "metadata": {},
   "source": [
    "This is the value to beat. If my model outperforms the prediction of the majority class (here `0`, or the Audio Engineering Subreddit) which has a baseline accuracy of `0.506725`, or $50.67\\%$), I know it's heading in the right direction."
   ]
  },
  {
   "cell_type": "code",
   "execution_count": 5,
   "metadata": {},
   "outputs": [],
   "source": [
    "# Setting my X and y variables.\n",
    "X = subs_df['full_post']\n",
    "y = subs_df['subreddit']"
   ]
  },
  {
   "cell_type": "code",
   "execution_count": 6,
   "metadata": {},
   "outputs": [
    {
     "data": {
      "text/plain": [
       "1    0.506725\n",
       "0    0.493275\n",
       "Name: subreddit, dtype: float64"
      ]
     },
     "execution_count": 6,
     "metadata": {},
     "output_type": "execute_result"
    }
   ],
   "source": [
    "y.value_counts(normalize = True)"
   ]
  },
  {
   "cell_type": "markdown",
   "metadata": {},
   "source": [
    "---\n",
    "## Section 4: Multinomial Naive Bayes & CountVectorizer\n",
    "\n",
    "---"
   ]
  },
  {
   "cell_type": "markdown",
   "metadata": {},
   "source": [
    "Moreso than any other model, I was able to achieve an extremely close training and testing score using `CountVectorizer` in a Multinomial Naive Bayes model. Additionally, these scores were quite close to 1, indicating a high degree of accuracy and predictive power. Below, I've shown the steps I took, as well as the best hyperparameters that gave me this model. Training and Testing scores are found at the end of this section, accompanied by an analysis. Detailed modeling can be found in [Notebook 4](../code/04_eda_and_modeling.ipynb)."
   ]
  },
  {
   "cell_type": "code",
   "execution_count": 7,
   "metadata": {},
   "outputs": [],
   "source": [
    "# Instantiating a train-test-split on my merged dataframe.\n",
    "X_train, X_test, y_train, y_test = train_test_split(X, y, test_size = 0.25, random_state = 42)"
   ]
  },
  {
   "cell_type": "code",
   "execution_count": 8,
   "metadata": {},
   "outputs": [],
   "source": [
    "cvec = CountVectorizer()\n",
    "cvec.fit(X_train)\n",
    "X_train_trans = cvec.transform(X_train)\n",
    "\n",
    "# Transforming my X testing data using CountVectorizer for testing my model on unseen data.\n",
    "X_test_trans = cvec.transform(X_test)"
   ]
  },
  {
   "cell_type": "markdown",
   "metadata": {},
   "source": [
    "**BELOW:** Instantiating a pipeline, then fitting my Multinomial Naive Bayes model with the best parameters determined when tuning the model in Notebook 4."
   ]
  },
  {
   "cell_type": "code",
   "execution_count": 9,
   "metadata": {},
   "outputs": [
    {
     "data": {
      "text/plain": [
       "GridSearchCV(cv=5,\n",
       "             estimator=Pipeline(steps=[('cvec', CountVectorizer()),\n",
       "                                       ('nb', MultinomialNB())]),\n",
       "             n_jobs=6,\n",
       "             param_grid={'cvec__max_features': [25000], 'cvec__min_df': [2],\n",
       "                         'cvec__ngram_range': [(1, 2)],\n",
       "                         'cvec__stop_words': ['english']})"
      ]
     },
     "execution_count": 9,
     "metadata": {},
     "output_type": "execute_result"
    }
   ],
   "source": [
    "# Instantiating a pipeline, and specifying Multinomial Naive Bayes as the estimator, and CountVectorizer as the transformer.\n",
    "pipe = Pipeline([\n",
    "    ('cvec', CountVectorizer()),\n",
    "    ('nb', MultinomialNB())\n",
    "])\n",
    "\n",
    "# Fitting my pipeline.\n",
    "pipe.fit(X_train, y_train)\n",
    "\n",
    "# Defining my list of best cvec hyperparameters.\n",
    "pipe_params = {\n",
    "    'cvec__max_features': [25_000],\n",
    "    'cvec__min_df': [2],\n",
    "    'cvec__stop_words': ['english'],\n",
    "    'cvec__ngram_range': [(1,2)]\n",
    "}\n",
    "\n",
    "# Instantiating GridSearchCV on my cvec-transformed data.\n",
    "gs = GridSearchCV(pipe, \n",
    "                  param_grid = pipe_params,\n",
    "                  cv = 5,                   \n",
    "                  n_jobs = 6) \n",
    "\n",
    "# Fitting the model to my training data.\n",
    "gs.fit(X_train, y_train)"
   ]
  },
  {
   "cell_type": "markdown",
   "metadata": {},
   "source": [
    "---\n",
    "---\n",
    "**BEST MNB/CVEC MODEL SCORES:**"
   ]
  },
  {
   "cell_type": "markdown",
   "metadata": {},
   "source": [
    "**Training Score: 0.973**"
   ]
  },
  {
   "cell_type": "code",
   "execution_count": 10,
   "metadata": {},
   "outputs": [
    {
     "data": {
      "text/plain": [
       "0.9727364040751901"
      ]
     },
     "execution_count": 10,
     "metadata": {},
     "output_type": "execute_result"
    }
   ],
   "source": [
    "# Scoring the model on training data.\n",
    "gs.score(X_train, y_train)"
   ]
  },
  {
   "cell_type": "markdown",
   "metadata": {},
   "source": [
    "**Testing Score: 0.956**"
   ]
  },
  {
   "cell_type": "code",
   "execution_count": 11,
   "metadata": {},
   "outputs": [
    {
     "data": {
      "text/plain": [
       "0.9556798623063684"
      ]
     },
     "execution_count": 11,
     "metadata": {},
     "output_type": "execute_result"
    }
   ],
   "source": [
    "# Scoring the model on testing data. This is how it actually perfomed on unseen data.\n",
    "gs.score(X_test, y_test)"
   ]
  },
  {
   "cell_type": "code",
   "execution_count": 12,
   "metadata": {},
   "outputs": [],
   "source": [
    "# Generating predictions.\n",
    "preds = gs.predict(X_test)\n",
    "\n",
    "# Saving confustion matrix values so I can plot them below.\n",
    "tn, fp, fn, tp = confusion_matrix(y_test, preds).ravel()"
   ]
  },
  {
   "cell_type": "code",
   "execution_count": 13,
   "metadata": {},
   "outputs": [
    {
     "data": {
      "image/png": "[encoded data removed]",
      "text/plain": [
       "<Figure size 432x288 with 2 Axes>"
      ]
     },
     "metadata": {
      "needs_background": "light"
     },
     "output_type": "display_data"
    }
   ],
   "source": [
    "# Plotting a confusion matrix for my Naive Bayes/cvec gridsearch model.\n",
    "plot_confusion_matrix(gs, X_test, y_test, cmap='Blues', values_format='d');"
   ]
  },
  {
   "cell_type": "markdown",
   "metadata": {},
   "source": [
    "---"
   ]
  },
  {
   "cell_type": "markdown",
   "metadata": {},
   "source": [
    "**Model Thoughts:**\n",
    "- This Multinomial Naive Bayes model, using the `CountVectorizer` transformer, was my best performing model overall, with a training score of 0.973 and a testing score of 0.956. Though the training score is slightly higher than the testing score, the difference is marginal, meaning I can expect this model to perform well on unseen data.\n",
    "- The difference between training and testing scores is minute, and both sets are performing with a high degree of accuracy. I'd be confident using this model to make predictions.\n",
    "- After tuning hyperparameters in my pipeline, I determined that 25,000 max features, a `max_df` of 2, an `n_gram` range of `(1,2)`, and English stop words yielded the best result for this model. \n",
    "- Based on the confusion matrix above, misclassification is minimal - I only found 103 misclassified posts out of almost 2500 posts in my test set. I'm very happy with this performance!"
   ]
  },
  {
   "cell_type": "markdown",
   "metadata": {},
   "source": [
    "---\n",
    "---"
   ]
  },
  {
   "cell_type": "markdown",
   "metadata": {},
   "source": [
    "`RandomForestClassifier` model scores and associated best hyperparameters for comparison to my Multinomial Naive Bayes model. Though the best scores displayed below are good, the Random Forest models were all overfit, testing a few percentage points higher on training data as compared to testing data."
   ]
  },
  {
   "cell_type": "code",
   "execution_count": 14,
   "metadata": {},
   "outputs": [
    {
     "data": {
      "text/html": [
       "<div>\n",
       "<style scoped>\n",
       "    .dataframe tbody tr th:only-of-type {\n",
       "        vertical-align: middle;\n",
       "    }\n",
       "\n",
       "    .dataframe tbody tr th {\n",
       "        vertical-align: top;\n",
       "    }\n",
       "\n",
       "    .dataframe thead th {\n",
       "        text-align: right;\n",
       "    }\n",
       "</style>\n",
       "<table border=\"1\" class=\"dataframe\">\n",
       "  <thead>\n",
       "    <tr style=\"text-align: right;\">\n",
       "      <th></th>\n",
       "      <th>model</th>\n",
       "      <th>score</th>\n",
       "      <th>n_estimators</th>\n",
       "      <th>max_depth</th>\n",
       "      <th>max_features</th>\n",
       "      <th>ccp_alpha</th>\n",
       "    </tr>\n",
       "  </thead>\n",
       "  <tbody>\n",
       "    <tr>\n",
       "      <th>0</th>\n",
       "      <td>Random Forest &amp; TVEC 1</td>\n",
       "      <td>0.925671</td>\n",
       "      <td>100</td>\n",
       "      <td>25</td>\n",
       "      <td>auto</td>\n",
       "      <td>0</td>\n",
       "    </tr>\n",
       "    <tr>\n",
       "      <th>1</th>\n",
       "      <td>Random Forest &amp; TVEC 2</td>\n",
       "      <td>0.926819</td>\n",
       "      <td>150</td>\n",
       "      <td>30</td>\n",
       "      <td>auto</td>\n",
       "      <td>0</td>\n",
       "    </tr>\n",
       "    <tr>\n",
       "      <th>2</th>\n",
       "      <td>Random Forest &amp; TVEC 3</td>\n",
       "      <td>0.930550</td>\n",
       "      <td>200</td>\n",
       "      <td>35</td>\n",
       "      <td>auto</td>\n",
       "      <td>0</td>\n",
       "    </tr>\n",
       "    <tr>\n",
       "      <th>3</th>\n",
       "      <td>Random Forest &amp; TVEC 4</td>\n",
       "      <td>0.933850</td>\n",
       "      <td>200</td>\n",
       "      <td>35</td>\n",
       "      <td>auto</td>\n",
       "      <td>0</td>\n",
       "    </tr>\n",
       "    <tr>\n",
       "      <th>4</th>\n",
       "      <td>Random Forest &amp; CVEC 1</td>\n",
       "      <td>0.875592</td>\n",
       "      <td>50</td>\n",
       "      <td>6</td>\n",
       "      <td>NaN</td>\n",
       "      <td>0</td>\n",
       "    </tr>\n",
       "    <tr>\n",
       "      <th>5</th>\n",
       "      <td>Random Forest &amp; CVEC 2</td>\n",
       "      <td>0.890658</td>\n",
       "      <td>100</td>\n",
       "      <td>8</td>\n",
       "      <td>NaN</td>\n",
       "      <td>0</td>\n",
       "    </tr>\n",
       "    <tr>\n",
       "      <th>6</th>\n",
       "      <td>Random Forest &amp; CVEC 3</td>\n",
       "      <td>0.910890</td>\n",
       "      <td>75</td>\n",
       "      <td>15</td>\n",
       "      <td>auto</td>\n",
       "      <td>0</td>\n",
       "    </tr>\n",
       "    <tr>\n",
       "      <th>7</th>\n",
       "      <td>Random Forest &amp; CVEC 4</td>\n",
       "      <td>0.925528</td>\n",
       "      <td>150</td>\n",
       "      <td>25</td>\n",
       "      <td>auto</td>\n",
       "      <td>0</td>\n",
       "    </tr>\n",
       "    <tr>\n",
       "      <th>8</th>\n",
       "      <td>Random Forest &amp; CVEC 5</td>\n",
       "      <td>0.926962</td>\n",
       "      <td>100</td>\n",
       "      <td>35</td>\n",
       "      <td>auto</td>\n",
       "      <td>0</td>\n",
       "    </tr>\n",
       "  </tbody>\n",
       "</table>\n",
       "</div>"
      ],
      "text/plain": [
       "                    model     score  n_estimators  max_depth max_features  \\\n",
       "0  Random Forest & TVEC 1  0.925671           100         25         auto   \n",
       "1  Random Forest & TVEC 2  0.926819           150         30         auto   \n",
       "2  Random Forest & TVEC 3  0.930550           200         35         auto   \n",
       "3  Random Forest & TVEC 4  0.933850           200         35         auto   \n",
       "4  Random Forest & CVEC 1  0.875592            50          6          NaN   \n",
       "5  Random Forest & CVEC 2  0.890658           100          8          NaN   \n",
       "6  Random Forest & CVEC 3  0.910890            75         15         auto   \n",
       "7  Random Forest & CVEC 4  0.925528           150         25         auto   \n",
       "8  Random Forest & CVEC 5  0.926962           100         35         auto   \n",
       "\n",
       "   ccp_alpha  \n",
       "0          0  \n",
       "1          0  \n",
       "2          0  \n",
       "3          0  \n",
       "4          0  \n",
       "5          0  \n",
       "6          0  \n",
       "7          0  \n",
       "8          0  "
      ]
     },
     "execution_count": 14,
     "metadata": {},
     "output_type": "execute_result"
    }
   ],
   "source": [
    "rf_models_df = pd.read_csv('../data/random_forest_models.csv')\n",
    "rf_models_df"
   ]
  },
  {
   "cell_type": "markdown",
   "metadata": {},
   "source": [
    "---\n",
    "---"
   ]
  },
  {
   "cell_type": "markdown",
   "metadata": {},
   "source": [
    "\n",
    "## Section 5: Visualization of Most Common Words\n",
    "\n",
    "---"
   ]
  },
  {
   "cell_type": "markdown",
   "metadata": {},
   "source": [
    "#### Graphing Most Frequently Occurring Words Across Both Subreddits"
   ]
  },
  {
   "cell_type": "code",
   "execution_count": 15,
   "metadata": {},
   "outputs": [],
   "source": [
    "# Defining my own stop words, to be used in conjunction with the default English stop words.\n",
    "my_stops = ['ve', 'don', 'good', 'bad', 'https', 'com', 'www', 'll', 'just', 'want', 'new', 'like', 'does',\n",
    "            'feel', 'think', 'use', 'amp', 'x200b','let', 'got', 'know', 'really', 'way', 'song', 'songs', 'audio']\n",
    "\n",
    "# Combining my stop words list with the default sklearn English stop word list.\n",
    "# With guidance from this Kaggle post: https://www.kaggle.com/c/msk-redefining-cancer-treatment/discussion/37679\n",
    "stops = text.ENGLISH_STOP_WORDS.union(my_stops)"
   ]
  },
  {
   "cell_type": "code",
   "execution_count": 16,
   "metadata": {},
   "outputs": [],
   "source": [
    "# Instantiating a CountVectorizer with custom stop words and fitting/transforming to my X training data.\n",
    "# With guidance from lesson 5.04.\n",
    "cvec = CountVectorizer(stop_words = stops)\n",
    "cvec.fit(X_train)\n",
    "X_train_trans = cvec.transform(X_train)"
   ]
  },
  {
   "cell_type": "code",
   "execution_count": 17,
   "metadata": {},
   "outputs": [
    {
     "data": {
      "image/png": "[encoded data removed]",
      "text/plain": [
       "<Figure size 936x648 with 1 Axes>"
      ]
     },
     "metadata": {
      "needs_background": "light"
     },
     "output_type": "display_data"
    }
   ],
   "source": [
    "# Saving my training data to a dataframe using the pandas method 'todense()', and setting columns as my tokens from the cvec transformer.\n",
    "X_train_df = pd.DataFrame(X_train_trans.todense(), columns = cvec.get_feature_names())\n",
    "\n",
    "# Plotting most frequently occurring words in a bar chart.\n",
    "plt.figure(figsize = (13, 9))\n",
    "X_train_df.sum().sort_values(ascending = False).head(25).plot(kind = 'barh')\n",
    "plt.xlabel('Count', size = 17)\n",
    "plt.ylabel('Token', size = 17)\n",
    "plt.title('Combined Subreddits: Top Tokens with Custom Stop Words', size = 20);"
   ]
  },
  {
   "cell_type": "markdown",
   "metadata": {},
   "source": [
    "---"
   ]
  },
  {
   "cell_type": "markdown",
   "metadata": {},
   "source": [
    "## Section 6: Conclusions & Final Thoughts\n",
    "\n",
    "---"
   ]
  },
  {
   "cell_type": "markdown",
   "metadata": {},
   "source": [
    "**Conclusions**\n",
    "- Fundamentally, my Multinomial Naive Bayes model performed quite well on unseen data. Some considerations for scaling this model would be observing posts over a longer span of time, looking at trends in most frequent posters in each community, and examine the level of community interaction generated by each post.\n",
    "- I was surprised to see how well my model differentiated between the Audio Engineering and Songwriting Subreddits - it correctly predicted which forum the post came from at a rate of $95.6\\%$. I assumed there would be much more crossover in terminology, and while there is some, the audiences appear fairly different, at least in how they speak about their respective topics.\n",
    "- The most common shared words across both Subreddits certainly make sense given the topics.\n",
    "- Both forums are, socially speaking, positive communities based on sentiment analysis ([Notebook 3](../code/03_basic_eda.ipynb)). The Audio Engineering Subreddit had a slightly higher compound sentiment score of 0.488 (based on the mean compound sentiment generated with nltk's `SentimentIntensityAnalyzer`, which ranks the poitivity or negativity of text tokens on a scale of -1 to +1 [Lesson 5.03]). The Songwriting Subreddit also skewed positive, with a mean compound sentiment score of 0.327. Though the `SentimentIntensityAnalyzer` and `VADER` lexicon aren't perfect, these scores do suggest that both communities  post predominantly positive content. Positivity is a huge plus when learning something new, so I'm happy to see these results! Comments on posts were not considered in these scores, though I'd like to in a future version of this project, as I believe they could significantly impact these scores.\n",
    "- My misclassification rate was very low!\n",
    "- Given more time, I'd like to scrape more posts, including the comments on these posts, and see how that changes my model. While the original posts are all fairly positive, and are generally either seeking help or offering wisdom, I'm sure the comments have a wider range of sentiments, and so, may produce an interesting effect on my model.\n",
    "<br>\n",
    "<br>\n",
    "\n",
    "**Actions**\n",
    "\n",
    "- Let's expand this to more Subreddits! The more communities I pull from, the more my model can grow, and the better it can help direct beginners to the best Subreddit for their needs and goals.\n",
    "- I'd like to scrape, and perform similar analysis on more \"official\" sources for recording and songwriting, such as [TapeOp](https://tapeop.com/) and [Sound On Sound](https://www.soundonsound.com/)."
   ]
  }
 ],
 "metadata": {
  "kernelspec": {
   "display_name": "Python 3",
   "language": "python",
   "name": "python3"
  },
  "language_info": {
   "codemirror_mode": {
    "name": "ipython",
    "version": 3
   },
   "file_extension": ".py",
   "mimetype": "text/x-python",
   "name": "python",
   "nbconvert_exporter": "python",
   "pygments_lexer": "ipython3",
   "version": "3.7.9"
  }
 },
 "nbformat": 4,
 "nbformat_minor": 4
}
