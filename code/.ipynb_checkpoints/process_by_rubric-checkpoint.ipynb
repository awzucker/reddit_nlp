{
 "cells": [
  {
   "cell_type": "markdown",
   "metadata": {},
   "source": [
    "<img src=\"http://imgur.com/1ZcRyrc.png\" style=\"float: left; margin: 20px; height: 55px\">\n",
    "\n",
    "# Project 3: Process by Rubric"
   ]
  },
  {
   "cell_type": "markdown",
   "metadata": {},
   "source": [
    "# Requirements"
   ]
  },
  {
   "cell_type": "markdown",
   "metadata": {},
   "source": [
    "Problem Statement\n",
    "\n",
    "    - I wanted to choose two subreddits that I thought everyone could relate to. We were all once children, and now we are adults. I wanted to understand how different teenagers and adults are. What seems the most important to teenagers? What seems the most important to adults? How different are teenagers and adults?"
   ]
  },
  {
   "cell_type": "markdown",
   "metadata": {},
   "source": [
    "---\n",
    "I chose the following Subreddits:\n",
    "* [r/audioengineering](https://www.reddit.com/r/audioengineering/)\n",
    "* [r/Songwriting](https://www.reddit.com/r/Songwriting/)"
   ]
  },
  {
   "cell_type": "markdown",
   "metadata": {},
   "source": [
    "**Data Cleaning and EDA**\n",
    "\n",
    "Using Pushshift's API to collect posts from two subreddits of my choosing.\n",
    "  1. Adulting\n",
    "  2. Teenagers"
   ]
  },
  {
   "cell_type": "markdown",
   "metadata": {},
   "source": [
    "Preprocessing and Modeling\n",
    "\n",
    "    - Random Forest classifier.\n",
    "    - One of my choosing (Logistic regression, KNN, SVM, etc.)"
   ]
  },
  {
   "cell_type": "markdown",
   "metadata": {},
   "source": [
    "Evaluating and Conceptual Understanding\n",
    "\n",
    "    - "
   ]
  },
  {
   "cell_type": "markdown",
   "metadata": {},
   "source": [
    "Conclusions and Recommendations\n",
    "\n",
    "    - "
   ]
  },
  {
   "cell_type": "markdown",
   "metadata": {},
   "source": [
    "## Organiziation and Professionalism"
   ]
  },
  {
   "cell_type": "markdown",
   "metadata": {},
   "source": [
    "Project Organization\n",
    "\n",
    "    1. Data Collection\n",
    "    2. Data Cleaning and EDA\n",
    "    3. Preprocessing and Modeling"
   ]
  },
  {
   "cell_type": "markdown",
   "metadata": {},
   "source": [
    "Visualizations\n",
    "\n",
    "    - Add one of most common words. Similar to lab."
   ]
  },
  {
   "cell_type": "markdown",
   "metadata": {},
   "source": [
    "Python Syntax and Control Flow\n",
    "\n",
    "    - "
   ]
  },
  {
   "cell_type": "markdown",
   "metadata": {},
   "source": [
    "Presentation\n",
    "\n",
    "    - "
   ]
  }
 ],
 "metadata": {
  "kernelspec": {
   "display_name": "Python 3",
   "language": "python",
   "name": "python3"
  },
  "language_info": {
   "codemirror_mode": {
    "name": "ipython",
    "version": 3
   },
   "file_extension": ".py",
   "mimetype": "text/x-python",
   "name": "python",
   "nbconvert_exporter": "python",
   "pygments_lexer": "ipython3",
   "version": "3.7.9"
  }
 },
 "nbformat": 4,
 "nbformat_minor": 4
}
